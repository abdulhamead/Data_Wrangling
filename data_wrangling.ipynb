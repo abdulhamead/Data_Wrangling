{
 "cells": [
  {
   "cell_type": "code",
   "execution_count": 1,
   "metadata": {},
   "outputs": [],
   "source": [
    "import pandas as pd \n",
    "import numpy as np \n",
    "import json \n",
    "import requests\n",
    "import os\n",
    "import matplotlib.pyplot as plt\n",
    "import seaborn as sns\n",
    "%matplotlib inline\n",
    "from cycler import cycler"
   ]
  },
  {
   "cell_type": "code",
   "execution_count": 2,
   "metadata": {},
   "outputs": [],
   "source": [
    "#changeing the outo option for show rows and columns.\n",
    "pd.set_option('display.max_rows', 500)\n",
    "pd.set_option('display.max_columns', 500)\n",
    "pd.set_option('display.width', 1000)"
   ]
  },
  {
   "cell_type": "markdown",
   "metadata": {},
   "source": [
    "# Gathering data "
   ]
  },
  {
   "cell_type": "markdown",
   "metadata": {},
   "source": [
    "#### In our task, we have three database one of them come from twitter API but unfortunately they decline my application."
   ]
  },
  {
   "cell_type": "code",
   "execution_count": 3,
   "metadata": {},
   "outputs": [],
   "source": [
    "#import tweepy \n",
    "\n",
    "#consumer_key = 'xxxx'\n",
    "#consumer_secret = 'xxxxxx'\n",
    "#access_token = 'xxxxx'\n",
    "#access_secret = 'xxxxxx'\n",
    "\n",
    "#auth = tweepy.OAuthHandler(consumer_key,consumer_secret)\n",
    "#auth.srt_access_token(access_token,access_secret)\n",
    "#api = tweepy.API(auth)"
   ]
  },
  {
   "cell_type": "code",
   "execution_count": 4,
   "metadata": {},
   "outputs": [],
   "source": [
    "dff = pd.read_csv(\"twitter-archive-enhanced.csv\")"
   ]
  },
  {
   "cell_type": "markdown",
   "metadata": {},
   "source": [
    "#### Make a copy for echae data."
   ]
  },
  {
   "cell_type": "code",
   "execution_count": 5,
   "metadata": {},
   "outputs": [],
   "source": [
    "df = dff.copy()"
   ]
  },
  {
   "cell_type": "code",
   "execution_count": 6,
   "metadata": {},
   "outputs": [],
   "source": [
    "with open('tweet-json.txt', 'r') as file:\n",
    "    tweet = []\n",
    "    for line in file:\n",
    "        tweet.append(json.loads(line))"
   ]
  },
  {
   "cell_type": "code",
   "execution_count": 7,
   "metadata": {},
   "outputs": [],
   "source": [
    "#Make a copy\n",
    "df_jsonn = pd.DataFrame(tweet)"
   ]
  },
  {
   "cell_type": "code",
   "execution_count": 8,
   "metadata": {},
   "outputs": [],
   "source": [
    "#Make a copy\n",
    "df_json = df_jsonn.copy()"
   ]
  },
  {
   "cell_type": "code",
   "execution_count": 9,
   "metadata": {},
   "outputs": [],
   "source": [
    "url = \"https://d17h27t6h515a5.cloudfront.net/topher/2017/August/599fd2ad_image-predictions/image-predictions.tsv\"\n",
    "response = requests.get(url)\n",
    "\n",
    "with open(os.path.join(\"image-predictions.tsv\"),mode = \"wb\") as file:\n",
    "    file.write(response.content)\n",
    "\n",
    "    \n",
    "image_prediction_dff = pd.read_csv(\"image-predictions.tsv\", sep = \"\\t\")"
   ]
  },
  {
   "cell_type": "code",
   "execution_count": 10,
   "metadata": {},
   "outputs": [],
   "source": [
    "#Make a copy\n",
    "image_prediction_df = image_prediction_dff.copy()"
   ]
  },
  {
   "cell_type": "code",
   "execution_count": 78,
   "metadata": {},
   "outputs": [],
   "source": [
    "#load the Image predictions tsv file\n",
    "image_prediction_dff = pd.read_csv('image-predictions.tsv', sep='\\t')"
   ]
  },
  {
   "cell_type": "markdown",
   "metadata": {},
   "source": [
    "# Assessing data "
   ]
  },
  {
   "cell_type": "markdown",
   "metadata": {},
   "source": [
    "#### In assessing part we try to find the issue and find solution. "
   ]
  },
  {
   "cell_type": "markdown",
   "metadata": {},
   "source": [
    "#### frist i exlporeing the data and try to find nuggets, useing all technique i know, like heead and shape & info & describe and duplicated and isnull & data types, and repet it in all database to understand the data and find nuggets."
   ]
  },
  {
   "cell_type": "code",
   "execution_count": 11,
   "metadata": {},
   "outputs": [
    {
     "data": {
      "text/html": [
       "<div>\n",
       "<style scoped>\n",
       "    .dataframe tbody tr th:only-of-type {\n",
       "        vertical-align: middle;\n",
       "    }\n",
       "\n",
       "    .dataframe tbody tr th {\n",
       "        vertical-align: top;\n",
       "    }\n",
       "\n",
       "    .dataframe thead th {\n",
       "        text-align: right;\n",
       "    }\n",
       "</style>\n",
       "<table border=\"1\" class=\"dataframe\">\n",
       "  <thead>\n",
       "    <tr style=\"text-align: right;\">\n",
       "      <th></th>\n",
       "      <th>tweet_id</th>\n",
       "      <th>in_reply_to_status_id</th>\n",
       "      <th>in_reply_to_user_id</th>\n",
       "      <th>timestamp</th>\n",
       "      <th>source</th>\n",
       "      <th>text</th>\n",
       "      <th>retweeted_status_id</th>\n",
       "      <th>retweeted_status_user_id</th>\n",
       "      <th>retweeted_status_timestamp</th>\n",
       "      <th>expanded_urls</th>\n",
       "      <th>rating_numerator</th>\n",
       "      <th>rating_denominator</th>\n",
       "      <th>name</th>\n",
       "      <th>doggo</th>\n",
       "      <th>floofer</th>\n",
       "      <th>pupper</th>\n",
       "      <th>puppo</th>\n",
       "    </tr>\n",
       "  </thead>\n",
       "  <tbody>\n",
       "    <tr>\n",
       "      <th>0</th>\n",
       "      <td>892420643555336193</td>\n",
       "      <td>NaN</td>\n",
       "      <td>NaN</td>\n",
       "      <td>2017-08-01 16:23:56 +0000</td>\n",
       "      <td>&lt;a href=\"http://twitter.com/download/iphone\" r...</td>\n",
       "      <td>This is Phineas. He's a mystical boy. Only eve...</td>\n",
       "      <td>NaN</td>\n",
       "      <td>NaN</td>\n",
       "      <td>NaN</td>\n",
       "      <td>https://twitter.com/dog_rates/status/892420643...</td>\n",
       "      <td>13</td>\n",
       "      <td>10</td>\n",
       "      <td>Phineas</td>\n",
       "      <td>None</td>\n",
       "      <td>None</td>\n",
       "      <td>None</td>\n",
       "      <td>None</td>\n",
       "    </tr>\n",
       "    <tr>\n",
       "      <th>1</th>\n",
       "      <td>892177421306343426</td>\n",
       "      <td>NaN</td>\n",
       "      <td>NaN</td>\n",
       "      <td>2017-08-01 00:17:27 +0000</td>\n",
       "      <td>&lt;a href=\"http://twitter.com/download/iphone\" r...</td>\n",
       "      <td>This is Tilly. She's just checking pup on you....</td>\n",
       "      <td>NaN</td>\n",
       "      <td>NaN</td>\n",
       "      <td>NaN</td>\n",
       "      <td>https://twitter.com/dog_rates/status/892177421...</td>\n",
       "      <td>13</td>\n",
       "      <td>10</td>\n",
       "      <td>Tilly</td>\n",
       "      <td>None</td>\n",
       "      <td>None</td>\n",
       "      <td>None</td>\n",
       "      <td>None</td>\n",
       "    </tr>\n",
       "  </tbody>\n",
       "</table>\n",
       "</div>"
      ],
      "text/plain": [
       "             tweet_id  in_reply_to_status_id  in_reply_to_user_id                  timestamp                                             source                                               text  retweeted_status_id  retweeted_status_user_id retweeted_status_timestamp                                      expanded_urls  rating_numerator  rating_denominator     name doggo floofer pupper puppo\n",
       "0  892420643555336193                    NaN                  NaN  2017-08-01 16:23:56 +0000  <a href=\"http://twitter.com/download/iphone\" r...  This is Phineas. He's a mystical boy. Only eve...                  NaN                       NaN                        NaN  https://twitter.com/dog_rates/status/892420643...                13                  10  Phineas  None    None   None  None\n",
       "1  892177421306343426                    NaN                  NaN  2017-08-01 00:17:27 +0000  <a href=\"http://twitter.com/download/iphone\" r...  This is Tilly. She's just checking pup on you....                  NaN                       NaN                        NaN  https://twitter.com/dog_rates/status/892177421...                13                  10    Tilly  None    None   None  None"
      ]
     },
     "execution_count": 11,
     "metadata": {},
     "output_type": "execute_result"
    }
   ],
   "source": [
    "#frist i exlporeing the data and try to find nuggets, useing all technique i know, like heead and shape & info & describe\n",
    "# and duplicated and isnull & dtypes, and repet it in all database to understand the data and find nuggets.\n",
    "df.head(2)"
   ]
  },
  {
   "cell_type": "code",
   "execution_count": 12,
   "metadata": {},
   "outputs": [
    {
     "data": {
      "text/plain": [
       "2356"
      ]
     },
     "execution_count": 12,
     "metadata": {},
     "output_type": "execute_result"
    }
   ],
   "source": [
    "#show shape of data \n",
    "df.shape[0]"
   ]
  },
  {
   "cell_type": "code",
   "execution_count": 13,
   "metadata": {},
   "outputs": [
    {
     "name": "stdout",
     "output_type": "stream",
     "text": [
      "<class 'pandas.core.frame.DataFrame'>\n",
      "RangeIndex: 2356 entries, 0 to 2355\n",
      "Data columns (total 17 columns):\n",
      "tweet_id                      2356 non-null int64\n",
      "in_reply_to_status_id         78 non-null float64\n",
      "in_reply_to_user_id           78 non-null float64\n",
      "timestamp                     2356 non-null object\n",
      "source                        2356 non-null object\n",
      "text                          2356 non-null object\n",
      "retweeted_status_id           181 non-null float64\n",
      "retweeted_status_user_id      181 non-null float64\n",
      "retweeted_status_timestamp    181 non-null object\n",
      "expanded_urls                 2297 non-null object\n",
      "rating_numerator              2356 non-null int64\n",
      "rating_denominator            2356 non-null int64\n",
      "name                          2356 non-null object\n",
      "doggo                         2356 non-null object\n",
      "floofer                       2356 non-null object\n",
      "pupper                        2356 non-null object\n",
      "puppo                         2356 non-null object\n",
      "dtypes: float64(4), int64(3), object(10)\n",
      "memory usage: 313.0+ KB\n"
     ]
    }
   ],
   "source": [
    "#show the information of data\n",
    "df.info()"
   ]
  },
  {
   "cell_type": "code",
   "execution_count": 14,
   "metadata": {},
   "outputs": [
    {
     "data": {
      "text/html": [
       "<div>\n",
       "<style scoped>\n",
       "    .dataframe tbody tr th:only-of-type {\n",
       "        vertical-align: middle;\n",
       "    }\n",
       "\n",
       "    .dataframe tbody tr th {\n",
       "        vertical-align: top;\n",
       "    }\n",
       "\n",
       "    .dataframe thead th {\n",
       "        text-align: right;\n",
       "    }\n",
       "</style>\n",
       "<table border=\"1\" class=\"dataframe\">\n",
       "  <thead>\n",
       "    <tr style=\"text-align: right;\">\n",
       "      <th></th>\n",
       "      <th>tweet_id</th>\n",
       "      <th>in_reply_to_status_id</th>\n",
       "      <th>in_reply_to_user_id</th>\n",
       "      <th>retweeted_status_id</th>\n",
       "      <th>retweeted_status_user_id</th>\n",
       "      <th>rating_numerator</th>\n",
       "      <th>rating_denominator</th>\n",
       "    </tr>\n",
       "  </thead>\n",
       "  <tbody>\n",
       "    <tr>\n",
       "      <th>count</th>\n",
       "      <td>2.356000e+03</td>\n",
       "      <td>7.800000e+01</td>\n",
       "      <td>7.800000e+01</td>\n",
       "      <td>1.810000e+02</td>\n",
       "      <td>1.810000e+02</td>\n",
       "      <td>2356.000000</td>\n",
       "      <td>2356.000000</td>\n",
       "    </tr>\n",
       "    <tr>\n",
       "      <th>mean</th>\n",
       "      <td>7.427716e+17</td>\n",
       "      <td>7.455079e+17</td>\n",
       "      <td>2.014171e+16</td>\n",
       "      <td>7.720400e+17</td>\n",
       "      <td>1.241698e+16</td>\n",
       "      <td>13.126486</td>\n",
       "      <td>10.455433</td>\n",
       "    </tr>\n",
       "    <tr>\n",
       "      <th>std</th>\n",
       "      <td>6.856705e+16</td>\n",
       "      <td>7.582492e+16</td>\n",
       "      <td>1.252797e+17</td>\n",
       "      <td>6.236928e+16</td>\n",
       "      <td>9.599254e+16</td>\n",
       "      <td>45.876648</td>\n",
       "      <td>6.745237</td>\n",
       "    </tr>\n",
       "    <tr>\n",
       "      <th>min</th>\n",
       "      <td>6.660209e+17</td>\n",
       "      <td>6.658147e+17</td>\n",
       "      <td>1.185634e+07</td>\n",
       "      <td>6.661041e+17</td>\n",
       "      <td>7.832140e+05</td>\n",
       "      <td>0.000000</td>\n",
       "      <td>0.000000</td>\n",
       "    </tr>\n",
       "    <tr>\n",
       "      <th>25%</th>\n",
       "      <td>6.783989e+17</td>\n",
       "      <td>6.757419e+17</td>\n",
       "      <td>3.086374e+08</td>\n",
       "      <td>7.186315e+17</td>\n",
       "      <td>4.196984e+09</td>\n",
       "      <td>10.000000</td>\n",
       "      <td>10.000000</td>\n",
       "    </tr>\n",
       "    <tr>\n",
       "      <th>50%</th>\n",
       "      <td>7.196279e+17</td>\n",
       "      <td>7.038708e+17</td>\n",
       "      <td>4.196984e+09</td>\n",
       "      <td>7.804657e+17</td>\n",
       "      <td>4.196984e+09</td>\n",
       "      <td>11.000000</td>\n",
       "      <td>10.000000</td>\n",
       "    </tr>\n",
       "    <tr>\n",
       "      <th>75%</th>\n",
       "      <td>7.993373e+17</td>\n",
       "      <td>8.257804e+17</td>\n",
       "      <td>4.196984e+09</td>\n",
       "      <td>8.203146e+17</td>\n",
       "      <td>4.196984e+09</td>\n",
       "      <td>12.000000</td>\n",
       "      <td>10.000000</td>\n",
       "    </tr>\n",
       "    <tr>\n",
       "      <th>max</th>\n",
       "      <td>8.924206e+17</td>\n",
       "      <td>8.862664e+17</td>\n",
       "      <td>8.405479e+17</td>\n",
       "      <td>8.874740e+17</td>\n",
       "      <td>7.874618e+17</td>\n",
       "      <td>1776.000000</td>\n",
       "      <td>170.000000</td>\n",
       "    </tr>\n",
       "  </tbody>\n",
       "</table>\n",
       "</div>"
      ],
      "text/plain": [
       "           tweet_id  in_reply_to_status_id  in_reply_to_user_id  retweeted_status_id  retweeted_status_user_id  rating_numerator  rating_denominator\n",
       "count  2.356000e+03           7.800000e+01         7.800000e+01         1.810000e+02              1.810000e+02       2356.000000         2356.000000\n",
       "mean   7.427716e+17           7.455079e+17         2.014171e+16         7.720400e+17              1.241698e+16         13.126486           10.455433\n",
       "std    6.856705e+16           7.582492e+16         1.252797e+17         6.236928e+16              9.599254e+16         45.876648            6.745237\n",
       "min    6.660209e+17           6.658147e+17         1.185634e+07         6.661041e+17              7.832140e+05          0.000000            0.000000\n",
       "25%    6.783989e+17           6.757419e+17         3.086374e+08         7.186315e+17              4.196984e+09         10.000000           10.000000\n",
       "50%    7.196279e+17           7.038708e+17         4.196984e+09         7.804657e+17              4.196984e+09         11.000000           10.000000\n",
       "75%    7.993373e+17           8.257804e+17         4.196984e+09         8.203146e+17              4.196984e+09         12.000000           10.000000\n",
       "max    8.924206e+17           8.862664e+17         8.405479e+17         8.874740e+17              7.874618e+17       1776.000000          170.000000"
      ]
     },
     "execution_count": 14,
     "metadata": {},
     "output_type": "execute_result"
    }
   ],
   "source": [
    "#describe the data\n",
    "\n",
    "df.describe()"
   ]
  },
  {
   "cell_type": "code",
   "execution_count": 15,
   "metadata": {},
   "outputs": [
    {
     "data": {
      "text/plain": [
       "tweet_id                         0\n",
       "in_reply_to_status_id         2278\n",
       "in_reply_to_user_id           2278\n",
       "timestamp                        0\n",
       "source                           0\n",
       "text                             0\n",
       "retweeted_status_id           2175\n",
       "retweeted_status_user_id      2175\n",
       "retweeted_status_timestamp    2175\n",
       "expanded_urls                   59\n",
       "rating_numerator                 0\n",
       "rating_denominator               0\n",
       "name                             0\n",
       "doggo                            0\n",
       "floofer                          0\n",
       "pupper                           0\n",
       "puppo                            0\n",
       "dtype: int64"
      ]
     },
     "execution_count": 15,
     "metadata": {},
     "output_type": "execute_result"
    }
   ],
   "source": [
    "#check for null\n",
    "df.isnull().sum()"
   ]
  },
  {
   "cell_type": "code",
   "execution_count": 16,
   "metadata": {},
   "outputs": [
    {
     "data": {
      "text/plain": [
       "0"
      ]
     },
     "execution_count": 16,
     "metadata": {},
     "output_type": "execute_result"
    }
   ],
   "source": [
    "#check for duplicated\n",
    "\n",
    "df.duplicated().sum()"
   ]
  },
  {
   "cell_type": "code",
   "execution_count": 17,
   "metadata": {},
   "outputs": [
    {
     "data": {
      "text/plain": [
       "tweet_id                        int64\n",
       "in_reply_to_status_id         float64\n",
       "in_reply_to_user_id           float64\n",
       "timestamp                      object\n",
       "source                         object\n",
       "text                           object\n",
       "retweeted_status_id           float64\n",
       "retweeted_status_user_id      float64\n",
       "retweeted_status_timestamp     object\n",
       "expanded_urls                  object\n",
       "rating_numerator                int64\n",
       "rating_denominator              int64\n",
       "name                           object\n",
       "doggo                          object\n",
       "floofer                        object\n",
       "pupper                         object\n",
       "puppo                          object\n",
       "dtype: object"
      ]
     },
     "execution_count": 17,
     "metadata": {},
     "output_type": "execute_result"
    }
   ],
   "source": [
    "#check for data type\n",
    "\n",
    "df.dtypes"
   ]
  },
  {
   "cell_type": "code",
   "execution_count": 18,
   "metadata": {},
   "outputs": [
    {
     "data": {
      "text/plain": [
       "None     2259\n",
       "doggo      97\n",
       "Name: doggo, dtype: int64"
      ]
     },
     "execution_count": 18,
     "metadata": {},
     "output_type": "execute_result"
    }
   ],
   "source": [
    "df[\"doggo\"].value_counts()"
   ]
  },
  {
   "cell_type": "code",
   "execution_count": 19,
   "metadata": {},
   "outputs": [
    {
     "data": {
      "text/plain": [
       "None       2346\n",
       "floofer      10\n",
       "Name: floofer, dtype: int64"
      ]
     },
     "execution_count": 19,
     "metadata": {},
     "output_type": "execute_result"
    }
   ],
   "source": [
    "df[\"floofer\"].value_counts()"
   ]
  },
  {
   "cell_type": "code",
   "execution_count": 20,
   "metadata": {},
   "outputs": [
    {
     "data": {
      "text/plain": [
       "None      2099\n",
       "pupper     257\n",
       "Name: pupper, dtype: int64"
      ]
     },
     "execution_count": 20,
     "metadata": {},
     "output_type": "execute_result"
    }
   ],
   "source": [
    "df[\"pupper\"].value_counts()"
   ]
  },
  {
   "cell_type": "code",
   "execution_count": 21,
   "metadata": {},
   "outputs": [
    {
     "data": {
      "text/plain": [
       "None     2326\n",
       "puppo      30\n",
       "Name: puppo, dtype: int64"
      ]
     },
     "execution_count": 21,
     "metadata": {},
     "output_type": "execute_result"
    }
   ],
   "source": [
    "df[\"puppo\"].value_counts()"
   ]
  },
  {
   "cell_type": "code",
   "execution_count": 22,
   "metadata": {},
   "outputs": [
    {
     "data": {
      "text/html": [
       "<div>\n",
       "<style scoped>\n",
       "    .dataframe tbody tr th:only-of-type {\n",
       "        vertical-align: middle;\n",
       "    }\n",
       "\n",
       "    .dataframe tbody tr th {\n",
       "        vertical-align: top;\n",
       "    }\n",
       "\n",
       "    .dataframe thead th {\n",
       "        text-align: right;\n",
       "    }\n",
       "</style>\n",
       "<table border=\"1\" class=\"dataframe\">\n",
       "  <thead>\n",
       "    <tr style=\"text-align: right;\">\n",
       "      <th></th>\n",
       "      <th>contributors</th>\n",
       "      <th>coordinates</th>\n",
       "      <th>created_at</th>\n",
       "      <th>display_text_range</th>\n",
       "      <th>entities</th>\n",
       "      <th>extended_entities</th>\n",
       "      <th>favorite_count</th>\n",
       "      <th>favorited</th>\n",
       "      <th>full_text</th>\n",
       "      <th>geo</th>\n",
       "      <th>id</th>\n",
       "      <th>id_str</th>\n",
       "      <th>in_reply_to_screen_name</th>\n",
       "      <th>in_reply_to_status_id</th>\n",
       "      <th>in_reply_to_status_id_str</th>\n",
       "      <th>in_reply_to_user_id</th>\n",
       "      <th>in_reply_to_user_id_str</th>\n",
       "      <th>is_quote_status</th>\n",
       "      <th>lang</th>\n",
       "      <th>place</th>\n",
       "      <th>possibly_sensitive</th>\n",
       "      <th>possibly_sensitive_appealable</th>\n",
       "      <th>quoted_status</th>\n",
       "      <th>quoted_status_id</th>\n",
       "      <th>quoted_status_id_str</th>\n",
       "      <th>retweet_count</th>\n",
       "      <th>retweeted</th>\n",
       "      <th>retweeted_status</th>\n",
       "      <th>source</th>\n",
       "      <th>truncated</th>\n",
       "      <th>user</th>\n",
       "    </tr>\n",
       "  </thead>\n",
       "  <tbody>\n",
       "    <tr>\n",
       "      <th>0</th>\n",
       "      <td>None</td>\n",
       "      <td>None</td>\n",
       "      <td>Tue Aug 01 16:23:56 +0000 2017</td>\n",
       "      <td>[0, 85]</td>\n",
       "      <td>{'hashtags': [], 'symbols': [], 'user_mentions...</td>\n",
       "      <td>{'media': [{'id': 892420639486877696, 'id_str'...</td>\n",
       "      <td>39467</td>\n",
       "      <td>False</td>\n",
       "      <td>This is Phineas. He's a mystical boy. Only eve...</td>\n",
       "      <td>None</td>\n",
       "      <td>892420643555336193</td>\n",
       "      <td>892420643555336193</td>\n",
       "      <td>None</td>\n",
       "      <td>NaN</td>\n",
       "      <td>None</td>\n",
       "      <td>NaN</td>\n",
       "      <td>None</td>\n",
       "      <td>False</td>\n",
       "      <td>en</td>\n",
       "      <td>None</td>\n",
       "      <td>False</td>\n",
       "      <td>False</td>\n",
       "      <td>NaN</td>\n",
       "      <td>NaN</td>\n",
       "      <td>NaN</td>\n",
       "      <td>8853</td>\n",
       "      <td>False</td>\n",
       "      <td>NaN</td>\n",
       "      <td>&lt;a href=\"http://twitter.com/download/iphone\" r...</td>\n",
       "      <td>False</td>\n",
       "      <td>{'id': 4196983835, 'id_str': '4196983835', 'na...</td>\n",
       "    </tr>\n",
       "    <tr>\n",
       "      <th>1</th>\n",
       "      <td>None</td>\n",
       "      <td>None</td>\n",
       "      <td>Tue Aug 01 00:17:27 +0000 2017</td>\n",
       "      <td>[0, 138]</td>\n",
       "      <td>{'hashtags': [], 'symbols': [], 'user_mentions...</td>\n",
       "      <td>{'media': [{'id': 892177413194625024, 'id_str'...</td>\n",
       "      <td>33819</td>\n",
       "      <td>False</td>\n",
       "      <td>This is Tilly. She's just checking pup on you....</td>\n",
       "      <td>None</td>\n",
       "      <td>892177421306343426</td>\n",
       "      <td>892177421306343426</td>\n",
       "      <td>None</td>\n",
       "      <td>NaN</td>\n",
       "      <td>None</td>\n",
       "      <td>NaN</td>\n",
       "      <td>None</td>\n",
       "      <td>False</td>\n",
       "      <td>en</td>\n",
       "      <td>None</td>\n",
       "      <td>False</td>\n",
       "      <td>False</td>\n",
       "      <td>NaN</td>\n",
       "      <td>NaN</td>\n",
       "      <td>NaN</td>\n",
       "      <td>6514</td>\n",
       "      <td>False</td>\n",
       "      <td>NaN</td>\n",
       "      <td>&lt;a href=\"http://twitter.com/download/iphone\" r...</td>\n",
       "      <td>False</td>\n",
       "      <td>{'id': 4196983835, 'id_str': '4196983835', 'na...</td>\n",
       "    </tr>\n",
       "  </tbody>\n",
       "</table>\n",
       "</div>"
      ],
      "text/plain": [
       "  contributors coordinates                      created_at display_text_range                                           entities                                  extended_entities  favorite_count  favorited                                          full_text   geo                  id              id_str in_reply_to_screen_name  in_reply_to_status_id in_reply_to_status_id_str  in_reply_to_user_id in_reply_to_user_id_str  is_quote_status lang place possibly_sensitive possibly_sensitive_appealable quoted_status  quoted_status_id quoted_status_id_str  retweet_count  retweeted retweeted_status                                             source  truncated                                               user\n",
       "0         None        None  Tue Aug 01 16:23:56 +0000 2017            [0, 85]  {'hashtags': [], 'symbols': [], 'user_mentions...  {'media': [{'id': 892420639486877696, 'id_str'...           39467      False  This is Phineas. He's a mystical boy. Only eve...  None  892420643555336193  892420643555336193                    None                    NaN                      None                  NaN                    None            False   en  None              False                         False           NaN               NaN                  NaN           8853      False              NaN  <a href=\"http://twitter.com/download/iphone\" r...      False  {'id': 4196983835, 'id_str': '4196983835', 'na...\n",
       "1         None        None  Tue Aug 01 00:17:27 +0000 2017           [0, 138]  {'hashtags': [], 'symbols': [], 'user_mentions...  {'media': [{'id': 892177413194625024, 'id_str'...           33819      False  This is Tilly. She's just checking pup on you....  None  892177421306343426  892177421306343426                    None                    NaN                      None                  NaN                    None            False   en  None              False                         False           NaN               NaN                  NaN           6514      False              NaN  <a href=\"http://twitter.com/download/iphone\" r...      False  {'id': 4196983835, 'id_str': '4196983835', 'na..."
      ]
     },
     "execution_count": 22,
     "metadata": {},
     "output_type": "execute_result"
    }
   ],
   "source": [
    "#I repeat the method i used to exploring the data\n",
    "df_json.head(2)"
   ]
  },
  {
   "cell_type": "code",
   "execution_count": 23,
   "metadata": {},
   "outputs": [
    {
     "data": {
      "text/plain": [
       "2354"
      ]
     },
     "execution_count": 23,
     "metadata": {},
     "output_type": "execute_result"
    }
   ],
   "source": [
    "#show shape of data\n",
    "\n",
    "df_json.shape[0]"
   ]
  },
  {
   "cell_type": "code",
   "execution_count": 24,
   "metadata": {},
   "outputs": [
    {
     "name": "stdout",
     "output_type": "stream",
     "text": [
      "<class 'pandas.core.frame.DataFrame'>\n",
      "RangeIndex: 2354 entries, 0 to 2353\n",
      "Data columns (total 31 columns):\n",
      "contributors                     0 non-null object\n",
      "coordinates                      0 non-null object\n",
      "created_at                       2354 non-null object\n",
      "display_text_range               2354 non-null object\n",
      "entities                         2354 non-null object\n",
      "extended_entities                2073 non-null object\n",
      "favorite_count                   2354 non-null int64\n",
      "favorited                        2354 non-null bool\n",
      "full_text                        2354 non-null object\n",
      "geo                              0 non-null object\n",
      "id                               2354 non-null int64\n",
      "id_str                           2354 non-null object\n",
      "in_reply_to_screen_name          78 non-null object\n",
      "in_reply_to_status_id            78 non-null float64\n",
      "in_reply_to_status_id_str        78 non-null object\n",
      "in_reply_to_user_id              78 non-null float64\n",
      "in_reply_to_user_id_str          78 non-null object\n",
      "is_quote_status                  2354 non-null bool\n",
      "lang                             2354 non-null object\n",
      "place                            1 non-null object\n",
      "possibly_sensitive               2211 non-null object\n",
      "possibly_sensitive_appealable    2211 non-null object\n",
      "quoted_status                    28 non-null object\n",
      "quoted_status_id                 29 non-null float64\n",
      "quoted_status_id_str             29 non-null object\n",
      "retweet_count                    2354 non-null int64\n",
      "retweeted                        2354 non-null bool\n",
      "retweeted_status                 179 non-null object\n",
      "source                           2354 non-null object\n",
      "truncated                        2354 non-null bool\n",
      "user                             2354 non-null object\n",
      "dtypes: bool(4), float64(3), int64(3), object(21)\n",
      "memory usage: 505.8+ KB\n"
     ]
    }
   ],
   "source": [
    "#show the information of data\n",
    "\n",
    "df_json.info()"
   ]
  },
  {
   "cell_type": "code",
   "execution_count": 25,
   "metadata": {},
   "outputs": [
    {
     "data": {
      "text/html": [
       "<div>\n",
       "<style scoped>\n",
       "    .dataframe tbody tr th:only-of-type {\n",
       "        vertical-align: middle;\n",
       "    }\n",
       "\n",
       "    .dataframe tbody tr th {\n",
       "        vertical-align: top;\n",
       "    }\n",
       "\n",
       "    .dataframe thead th {\n",
       "        text-align: right;\n",
       "    }\n",
       "</style>\n",
       "<table border=\"1\" class=\"dataframe\">\n",
       "  <thead>\n",
       "    <tr style=\"text-align: right;\">\n",
       "      <th></th>\n",
       "      <th>favorite_count</th>\n",
       "      <th>id</th>\n",
       "      <th>in_reply_to_status_id</th>\n",
       "      <th>in_reply_to_user_id</th>\n",
       "      <th>quoted_status_id</th>\n",
       "      <th>retweet_count</th>\n",
       "    </tr>\n",
       "  </thead>\n",
       "  <tbody>\n",
       "    <tr>\n",
       "      <th>count</th>\n",
       "      <td>2354.000000</td>\n",
       "      <td>2.354000e+03</td>\n",
       "      <td>7.800000e+01</td>\n",
       "      <td>7.800000e+01</td>\n",
       "      <td>2.900000e+01</td>\n",
       "      <td>2354.000000</td>\n",
       "    </tr>\n",
       "    <tr>\n",
       "      <th>mean</th>\n",
       "      <td>8080.968564</td>\n",
       "      <td>7.426978e+17</td>\n",
       "      <td>7.455079e+17</td>\n",
       "      <td>2.014171e+16</td>\n",
       "      <td>8.162686e+17</td>\n",
       "      <td>3164.797366</td>\n",
       "    </tr>\n",
       "    <tr>\n",
       "      <th>std</th>\n",
       "      <td>11814.771334</td>\n",
       "      <td>6.852812e+16</td>\n",
       "      <td>7.582492e+16</td>\n",
       "      <td>1.252797e+17</td>\n",
       "      <td>6.164161e+16</td>\n",
       "      <td>5284.770364</td>\n",
       "    </tr>\n",
       "    <tr>\n",
       "      <th>min</th>\n",
       "      <td>0.000000</td>\n",
       "      <td>6.660209e+17</td>\n",
       "      <td>6.658147e+17</td>\n",
       "      <td>1.185634e+07</td>\n",
       "      <td>6.721083e+17</td>\n",
       "      <td>0.000000</td>\n",
       "    </tr>\n",
       "    <tr>\n",
       "      <th>25%</th>\n",
       "      <td>1415.000000</td>\n",
       "      <td>6.783975e+17</td>\n",
       "      <td>6.757419e+17</td>\n",
       "      <td>3.086374e+08</td>\n",
       "      <td>7.888183e+17</td>\n",
       "      <td>624.500000</td>\n",
       "    </tr>\n",
       "    <tr>\n",
       "      <th>50%</th>\n",
       "      <td>3603.500000</td>\n",
       "      <td>7.194596e+17</td>\n",
       "      <td>7.038708e+17</td>\n",
       "      <td>4.196984e+09</td>\n",
       "      <td>8.340867e+17</td>\n",
       "      <td>1473.500000</td>\n",
       "    </tr>\n",
       "    <tr>\n",
       "      <th>75%</th>\n",
       "      <td>10122.250000</td>\n",
       "      <td>7.993058e+17</td>\n",
       "      <td>8.257804e+17</td>\n",
       "      <td>4.196984e+09</td>\n",
       "      <td>8.664587e+17</td>\n",
       "      <td>3652.000000</td>\n",
       "    </tr>\n",
       "    <tr>\n",
       "      <th>max</th>\n",
       "      <td>132810.000000</td>\n",
       "      <td>8.924206e+17</td>\n",
       "      <td>8.862664e+17</td>\n",
       "      <td>8.405479e+17</td>\n",
       "      <td>8.860534e+17</td>\n",
       "      <td>79515.000000</td>\n",
       "    </tr>\n",
       "  </tbody>\n",
       "</table>\n",
       "</div>"
      ],
      "text/plain": [
       "       favorite_count            id  in_reply_to_status_id  in_reply_to_user_id  quoted_status_id  retweet_count\n",
       "count     2354.000000  2.354000e+03           7.800000e+01         7.800000e+01      2.900000e+01    2354.000000\n",
       "mean      8080.968564  7.426978e+17           7.455079e+17         2.014171e+16      8.162686e+17    3164.797366\n",
       "std      11814.771334  6.852812e+16           7.582492e+16         1.252797e+17      6.164161e+16    5284.770364\n",
       "min          0.000000  6.660209e+17           6.658147e+17         1.185634e+07      6.721083e+17       0.000000\n",
       "25%       1415.000000  6.783975e+17           6.757419e+17         3.086374e+08      7.888183e+17     624.500000\n",
       "50%       3603.500000  7.194596e+17           7.038708e+17         4.196984e+09      8.340867e+17    1473.500000\n",
       "75%      10122.250000  7.993058e+17           8.257804e+17         4.196984e+09      8.664587e+17    3652.000000\n",
       "max     132810.000000  8.924206e+17           8.862664e+17         8.405479e+17      8.860534e+17   79515.000000"
      ]
     },
     "execution_count": 25,
     "metadata": {},
     "output_type": "execute_result"
    }
   ],
   "source": [
    "#describe the data\n",
    "\n",
    "df_json.describe()"
   ]
  },
  {
   "cell_type": "code",
   "execution_count": 26,
   "metadata": {},
   "outputs": [
    {
     "data": {
      "text/plain": [
       "contributors                     2354\n",
       "coordinates                      2354\n",
       "created_at                          0\n",
       "display_text_range                  0\n",
       "entities                            0\n",
       "extended_entities                 281\n",
       "favorite_count                      0\n",
       "favorited                           0\n",
       "full_text                           0\n",
       "geo                              2354\n",
       "id                                  0\n",
       "id_str                              0\n",
       "in_reply_to_screen_name          2276\n",
       "in_reply_to_status_id            2276\n",
       "in_reply_to_status_id_str        2276\n",
       "in_reply_to_user_id              2276\n",
       "in_reply_to_user_id_str          2276\n",
       "is_quote_status                     0\n",
       "lang                                0\n",
       "place                            2353\n",
       "possibly_sensitive                143\n",
       "possibly_sensitive_appealable     143\n",
       "quoted_status                    2326\n",
       "quoted_status_id                 2325\n",
       "quoted_status_id_str             2325\n",
       "retweet_count                       0\n",
       "retweeted                           0\n",
       "retweeted_status                 2175\n",
       "source                              0\n",
       "truncated                           0\n",
       "user                                0\n",
       "dtype: int64"
      ]
     },
     "execution_count": 26,
     "metadata": {},
     "output_type": "execute_result"
    }
   ],
   "source": [
    "#check for null\n",
    "\n",
    "df_json.isnull().sum()"
   ]
  },
  {
   "cell_type": "code",
   "execution_count": 27,
   "metadata": {},
   "outputs": [
    {
     "data": {
      "text/html": [
       "<div>\n",
       "<style scoped>\n",
       "    .dataframe tbody tr th:only-of-type {\n",
       "        vertical-align: middle;\n",
       "    }\n",
       "\n",
       "    .dataframe tbody tr th {\n",
       "        vertical-align: top;\n",
       "    }\n",
       "\n",
       "    .dataframe thead th {\n",
       "        text-align: right;\n",
       "    }\n",
       "</style>\n",
       "<table border=\"1\" class=\"dataframe\">\n",
       "  <thead>\n",
       "    <tr style=\"text-align: right;\">\n",
       "      <th></th>\n",
       "      <th>tweet_id</th>\n",
       "      <th>jpg_url</th>\n",
       "      <th>img_num</th>\n",
       "      <th>p1</th>\n",
       "      <th>p1_conf</th>\n",
       "      <th>p1_dog</th>\n",
       "      <th>p2</th>\n",
       "      <th>p2_conf</th>\n",
       "      <th>p2_dog</th>\n",
       "      <th>p3</th>\n",
       "      <th>p3_conf</th>\n",
       "      <th>p3_dog</th>\n",
       "    </tr>\n",
       "  </thead>\n",
       "  <tbody>\n",
       "    <tr>\n",
       "      <th>0</th>\n",
       "      <td>666020888022790149</td>\n",
       "      <td>https://pbs.twimg.com/media/CT4udn0WwAA0aMy.jpg</td>\n",
       "      <td>1</td>\n",
       "      <td>Welsh_springer_spaniel</td>\n",
       "      <td>0.465074</td>\n",
       "      <td>True</td>\n",
       "      <td>collie</td>\n",
       "      <td>0.156665</td>\n",
       "      <td>True</td>\n",
       "      <td>Shetland_sheepdog</td>\n",
       "      <td>0.061428</td>\n",
       "      <td>True</td>\n",
       "    </tr>\n",
       "    <tr>\n",
       "      <th>1</th>\n",
       "      <td>666029285002620928</td>\n",
       "      <td>https://pbs.twimg.com/media/CT42GRgUYAA5iDo.jpg</td>\n",
       "      <td>1</td>\n",
       "      <td>redbone</td>\n",
       "      <td>0.506826</td>\n",
       "      <td>True</td>\n",
       "      <td>miniature_pinscher</td>\n",
       "      <td>0.074192</td>\n",
       "      <td>True</td>\n",
       "      <td>Rhodesian_ridgeback</td>\n",
       "      <td>0.072010</td>\n",
       "      <td>True</td>\n",
       "    </tr>\n",
       "    <tr>\n",
       "      <th>2</th>\n",
       "      <td>666033412701032449</td>\n",
       "      <td>https://pbs.twimg.com/media/CT4521TWwAEvMyu.jpg</td>\n",
       "      <td>1</td>\n",
       "      <td>German_shepherd</td>\n",
       "      <td>0.596461</td>\n",
       "      <td>True</td>\n",
       "      <td>malinois</td>\n",
       "      <td>0.138584</td>\n",
       "      <td>True</td>\n",
       "      <td>bloodhound</td>\n",
       "      <td>0.116197</td>\n",
       "      <td>True</td>\n",
       "    </tr>\n",
       "    <tr>\n",
       "      <th>3</th>\n",
       "      <td>666044226329800704</td>\n",
       "      <td>https://pbs.twimg.com/media/CT5Dr8HUEAA-lEu.jpg</td>\n",
       "      <td>1</td>\n",
       "      <td>Rhodesian_ridgeback</td>\n",
       "      <td>0.408143</td>\n",
       "      <td>True</td>\n",
       "      <td>redbone</td>\n",
       "      <td>0.360687</td>\n",
       "      <td>True</td>\n",
       "      <td>miniature_pinscher</td>\n",
       "      <td>0.222752</td>\n",
       "      <td>True</td>\n",
       "    </tr>\n",
       "    <tr>\n",
       "      <th>4</th>\n",
       "      <td>666049248165822465</td>\n",
       "      <td>https://pbs.twimg.com/media/CT5IQmsXIAAKY4A.jpg</td>\n",
       "      <td>1</td>\n",
       "      <td>miniature_pinscher</td>\n",
       "      <td>0.560311</td>\n",
       "      <td>True</td>\n",
       "      <td>Rottweiler</td>\n",
       "      <td>0.243682</td>\n",
       "      <td>True</td>\n",
       "      <td>Doberman</td>\n",
       "      <td>0.154629</td>\n",
       "      <td>True</td>\n",
       "    </tr>\n",
       "  </tbody>\n",
       "</table>\n",
       "</div>"
      ],
      "text/plain": [
       "             tweet_id                                          jpg_url  img_num                      p1   p1_conf  p1_dog                  p2   p2_conf  p2_dog                   p3   p3_conf  p3_dog\n",
       "0  666020888022790149  https://pbs.twimg.com/media/CT4udn0WwAA0aMy.jpg        1  Welsh_springer_spaniel  0.465074    True              collie  0.156665    True    Shetland_sheepdog  0.061428    True\n",
       "1  666029285002620928  https://pbs.twimg.com/media/CT42GRgUYAA5iDo.jpg        1                 redbone  0.506826    True  miniature_pinscher  0.074192    True  Rhodesian_ridgeback  0.072010    True\n",
       "2  666033412701032449  https://pbs.twimg.com/media/CT4521TWwAEvMyu.jpg        1         German_shepherd  0.596461    True            malinois  0.138584    True           bloodhound  0.116197    True\n",
       "3  666044226329800704  https://pbs.twimg.com/media/CT5Dr8HUEAA-lEu.jpg        1     Rhodesian_ridgeback  0.408143    True             redbone  0.360687    True   miniature_pinscher  0.222752    True\n",
       "4  666049248165822465  https://pbs.twimg.com/media/CT5IQmsXIAAKY4A.jpg        1      miniature_pinscher  0.560311    True          Rottweiler  0.243682    True             Doberman  0.154629    True"
      ]
     },
     "execution_count": 27,
     "metadata": {},
     "output_type": "execute_result"
    }
   ],
   "source": [
    "#i repeat the method i used to exploring the data\n",
    "image_prediction_df.head(5)"
   ]
  },
  {
   "cell_type": "code",
   "execution_count": 28,
   "metadata": {},
   "outputs": [
    {
     "data": {
      "text/plain": [
       "2075"
      ]
     },
     "execution_count": 28,
     "metadata": {},
     "output_type": "execute_result"
    }
   ],
   "source": [
    "#show shape of data\n",
    "\n",
    "image_prediction_df.shape[0]"
   ]
  },
  {
   "cell_type": "code",
   "execution_count": 29,
   "metadata": {},
   "outputs": [
    {
     "name": "stdout",
     "output_type": "stream",
     "text": [
      "<class 'pandas.core.frame.DataFrame'>\n",
      "RangeIndex: 2075 entries, 0 to 2074\n",
      "Data columns (total 12 columns):\n",
      "tweet_id    2075 non-null int64\n",
      "jpg_url     2075 non-null object\n",
      "img_num     2075 non-null int64\n",
      "p1          2075 non-null object\n",
      "p1_conf     2075 non-null float64\n",
      "p1_dog      2075 non-null bool\n",
      "p2          2075 non-null object\n",
      "p2_conf     2075 non-null float64\n",
      "p2_dog      2075 non-null bool\n",
      "p3          2075 non-null object\n",
      "p3_conf     2075 non-null float64\n",
      "p3_dog      2075 non-null bool\n",
      "dtypes: bool(3), float64(3), int64(2), object(4)\n",
      "memory usage: 152.1+ KB\n"
     ]
    }
   ],
   "source": [
    "#show the information of data\n",
    "\n",
    "image_prediction_df.info()"
   ]
  },
  {
   "cell_type": "code",
   "execution_count": 30,
   "metadata": {},
   "outputs": [
    {
     "data": {
      "text/html": [
       "<div>\n",
       "<style scoped>\n",
       "    .dataframe tbody tr th:only-of-type {\n",
       "        vertical-align: middle;\n",
       "    }\n",
       "\n",
       "    .dataframe tbody tr th {\n",
       "        vertical-align: top;\n",
       "    }\n",
       "\n",
       "    .dataframe thead th {\n",
       "        text-align: right;\n",
       "    }\n",
       "</style>\n",
       "<table border=\"1\" class=\"dataframe\">\n",
       "  <thead>\n",
       "    <tr style=\"text-align: right;\">\n",
       "      <th></th>\n",
       "      <th>tweet_id</th>\n",
       "      <th>img_num</th>\n",
       "      <th>p1_conf</th>\n",
       "      <th>p2_conf</th>\n",
       "      <th>p3_conf</th>\n",
       "    </tr>\n",
       "  </thead>\n",
       "  <tbody>\n",
       "    <tr>\n",
       "      <th>count</th>\n",
       "      <td>2.075000e+03</td>\n",
       "      <td>2075.000000</td>\n",
       "      <td>2075.000000</td>\n",
       "      <td>2.075000e+03</td>\n",
       "      <td>2.075000e+03</td>\n",
       "    </tr>\n",
       "    <tr>\n",
       "      <th>mean</th>\n",
       "      <td>7.384514e+17</td>\n",
       "      <td>1.203855</td>\n",
       "      <td>0.594548</td>\n",
       "      <td>1.345886e-01</td>\n",
       "      <td>6.032417e-02</td>\n",
       "    </tr>\n",
       "    <tr>\n",
       "      <th>std</th>\n",
       "      <td>6.785203e+16</td>\n",
       "      <td>0.561875</td>\n",
       "      <td>0.271174</td>\n",
       "      <td>1.006657e-01</td>\n",
       "      <td>5.090593e-02</td>\n",
       "    </tr>\n",
       "    <tr>\n",
       "      <th>min</th>\n",
       "      <td>6.660209e+17</td>\n",
       "      <td>1.000000</td>\n",
       "      <td>0.044333</td>\n",
       "      <td>1.011300e-08</td>\n",
       "      <td>1.740170e-10</td>\n",
       "    </tr>\n",
       "    <tr>\n",
       "      <th>25%</th>\n",
       "      <td>6.764835e+17</td>\n",
       "      <td>1.000000</td>\n",
       "      <td>0.364412</td>\n",
       "      <td>5.388625e-02</td>\n",
       "      <td>1.622240e-02</td>\n",
       "    </tr>\n",
       "    <tr>\n",
       "      <th>50%</th>\n",
       "      <td>7.119988e+17</td>\n",
       "      <td>1.000000</td>\n",
       "      <td>0.588230</td>\n",
       "      <td>1.181810e-01</td>\n",
       "      <td>4.944380e-02</td>\n",
       "    </tr>\n",
       "    <tr>\n",
       "      <th>75%</th>\n",
       "      <td>7.932034e+17</td>\n",
       "      <td>1.000000</td>\n",
       "      <td>0.843855</td>\n",
       "      <td>1.955655e-01</td>\n",
       "      <td>9.180755e-02</td>\n",
       "    </tr>\n",
       "    <tr>\n",
       "      <th>max</th>\n",
       "      <td>8.924206e+17</td>\n",
       "      <td>4.000000</td>\n",
       "      <td>1.000000</td>\n",
       "      <td>4.880140e-01</td>\n",
       "      <td>2.734190e-01</td>\n",
       "    </tr>\n",
       "  </tbody>\n",
       "</table>\n",
       "</div>"
      ],
      "text/plain": [
       "           tweet_id      img_num      p1_conf       p2_conf       p3_conf\n",
       "count  2.075000e+03  2075.000000  2075.000000  2.075000e+03  2.075000e+03\n",
       "mean   7.384514e+17     1.203855     0.594548  1.345886e-01  6.032417e-02\n",
       "std    6.785203e+16     0.561875     0.271174  1.006657e-01  5.090593e-02\n",
       "min    6.660209e+17     1.000000     0.044333  1.011300e-08  1.740170e-10\n",
       "25%    6.764835e+17     1.000000     0.364412  5.388625e-02  1.622240e-02\n",
       "50%    7.119988e+17     1.000000     0.588230  1.181810e-01  4.944380e-02\n",
       "75%    7.932034e+17     1.000000     0.843855  1.955655e-01  9.180755e-02\n",
       "max    8.924206e+17     4.000000     1.000000  4.880140e-01  2.734190e-01"
      ]
     },
     "execution_count": 30,
     "metadata": {},
     "output_type": "execute_result"
    }
   ],
   "source": [
    "#describe the data\n",
    "\n",
    "image_prediction_df.describe()"
   ]
  },
  {
   "cell_type": "code",
   "execution_count": 31,
   "metadata": {},
   "outputs": [
    {
     "data": {
      "text/plain": [
       "tweet_id    0\n",
       "jpg_url     0\n",
       "img_num     0\n",
       "p1          0\n",
       "p1_conf     0\n",
       "p1_dog      0\n",
       "p2          0\n",
       "p2_conf     0\n",
       "p2_dog      0\n",
       "p3          0\n",
       "p3_conf     0\n",
       "p3_dog      0\n",
       "dtype: int64"
      ]
     },
     "execution_count": 31,
     "metadata": {},
     "output_type": "execute_result"
    }
   ],
   "source": [
    "#check for null\n",
    "\n",
    "image_prediction_df.isnull().sum()"
   ]
  },
  {
   "cell_type": "code",
   "execution_count": 32,
   "metadata": {},
   "outputs": [
    {
     "data": {
      "text/plain": [
       "0"
      ]
     },
     "execution_count": 32,
     "metadata": {},
     "output_type": "execute_result"
    }
   ],
   "source": [
    "#check for duplicated\n",
    "\n",
    "image_prediction_df.duplicated().sum()"
   ]
  },
  {
   "cell_type": "markdown",
   "metadata": {},
   "source": [
    "## we find too many issues but we take some of them and try to prepare the data for analysis.\n",
    "# Quality :\n",
    "\n",
    "### In twitter-archive-enhanced.csv :\n",
    "\n",
    "Rating it should not more than 10. \n",
    "\n",
    "I have a lot of missing values and duplicated columnsin (in_reply_to_status_id , in_reply_to_user_id , retweeted_status_id , retweeted_status_user_id , retweeted_status_timestamp ).\n",
    "\n",
    "I don't have any duplicated (This is comfortable ). (:\n",
    "\n",
    "Timestamp type it’s should datetime not a object.\n",
    "\n",
    "I can merge these four columns ( doggo , floofer , pupper , puppo ) in to one.  \n",
    "\n",
    "The null values inside the four columns ( doggo , floofer , pupper , puppo ) it should  come as (null) not (None).\n",
    "\n",
    "\n",
    "\n",
    "### In Tweet_json.txt:\n",
    "\n",
    "I have a lot of missing values(Tweet_json.txt)  in (contributors , coordinates, geo, in_reply_to_screen_name , in_reply_to_status_id , in_reply_to_status_id_str , in_reply_to_user_id , in_reply_to_user_id_str , place , quoted_status , quoted_status_id , quoted_status_id_str , retweeted_status ).\n",
    "\n",
    "display_text_range contain multi value, so we need to divide it to 2 columns\n",
    "\n",
    "### In Image_prediction:\n",
    "\n",
    "in image_prediction there is no column for most confidence breed of dogs.\n",
    "\n",
    "there are missing tweets since the tweets in tweet_archeve are 2356 and in image_prediction are 2075.\n",
    "\n",
    "we need tweet with images together\n",
    "\n",
    "\n",
    "\n",
    "\n",
    "\n",
    "#### there are missing tweets since the tweets in tweet_archeve are 2356 and in image_prediction are 2075.\n",
    "#### we need tweet with images together\n",
    "\n",
    "\n",
    "# Tidiness :\n",
    "\n",
    "\n",
    "1- All three database it's should be in one dataframe.\n",
    "\n",
    "2-All columns 'doggo','floof', 'pupper' and 'puppo' it should in one column.\n",
    "\n",
    "3-some columns like \"in_reply_to_status_id and\" they have too many missing value, my opinion is deleting them."
   ]
  },
  {
   "cell_type": "code",
   "execution_count": 33,
   "metadata": {},
   "outputs": [
    {
     "name": "stdout",
     "output_type": "stream",
     "text": [
      "<class 'pandas.core.frame.DataFrame'>\n",
      "RangeIndex: 2356 entries, 0 to 2355\n",
      "Data columns (total 17 columns):\n",
      "tweet_id                      2356 non-null int64\n",
      "in_reply_to_status_id         78 non-null float64\n",
      "in_reply_to_user_id           78 non-null float64\n",
      "timestamp                     2356 non-null object\n",
      "source                        2356 non-null object\n",
      "text                          2356 non-null object\n",
      "retweeted_status_id           181 non-null float64\n",
      "retweeted_status_user_id      181 non-null float64\n",
      "retweeted_status_timestamp    181 non-null object\n",
      "expanded_urls                 2297 non-null object\n",
      "rating_numerator              2356 non-null int64\n",
      "rating_denominator            2356 non-null int64\n",
      "name                          2356 non-null object\n",
      "doggo                         2356 non-null object\n",
      "floofer                       2356 non-null object\n",
      "pupper                        2356 non-null object\n",
      "puppo                         2356 non-null object\n",
      "dtypes: float64(4), int64(3), object(10)\n",
      "memory usage: 313.0+ KB\n"
     ]
    }
   ],
   "source": [
    "df.info()"
   ]
  },
  {
   "cell_type": "markdown",
   "metadata": {},
   "source": [
    "# Data cleaning"
   ]
  },
  {
   "cell_type": "markdown",
   "metadata": {},
   "source": [
    "## Issue \n",
    "### 1- I have a lot of missing valuesa and duplicated columns in (in_reply_to_status_id , in_reply_to_user_id , retweeted_status_id , retweeted_status_user_id , retweeted_status_timestamp ), so i drop unwanted columns . \n",
    "\n",
    "\n",
    "## Code\n"
   ]
  },
  {
   "cell_type": "code",
   "execution_count": 34,
   "metadata": {},
   "outputs": [],
   "source": [
    "#i drop unwanted columns.\n",
    "df = df.drop(['in_reply_to_status_id','in_reply_to_user_id','retweeted_status_id','retweeted_status_user_id' , 'retweeted_status_timestamp'], axis=1)\n"
   ]
  },
  {
   "cell_type": "markdown",
   "metadata": {},
   "source": [
    "## Test\n"
   ]
  },
  {
   "cell_type": "code",
   "execution_count": 35,
   "metadata": {},
   "outputs": [
    {
     "name": "stdout",
     "output_type": "stream",
     "text": [
      "<class 'pandas.core.frame.DataFrame'>\n",
      "RangeIndex: 2356 entries, 0 to 2355\n",
      "Data columns (total 12 columns):\n",
      "tweet_id              2356 non-null int64\n",
      "timestamp             2356 non-null object\n",
      "source                2356 non-null object\n",
      "text                  2356 non-null object\n",
      "expanded_urls         2297 non-null object\n",
      "rating_numerator      2356 non-null int64\n",
      "rating_denominator    2356 non-null int64\n",
      "name                  2356 non-null object\n",
      "doggo                 2356 non-null object\n",
      "floofer               2356 non-null object\n",
      "pupper                2356 non-null object\n",
      "puppo                 2356 non-null object\n",
      "dtypes: int64(3), object(9)\n",
      "memory usage: 221.0+ KB\n"
     ]
    }
   ],
   "source": [
    "df.info()"
   ]
  },
  {
   "cell_type": "markdown",
   "metadata": {},
   "source": [
    "## Issue \n",
    "### 2- convert tweet_id from float to string\n",
    "\n",
    "\n",
    "## Code\n"
   ]
  },
  {
   "cell_type": "code",
   "execution_count": 36,
   "metadata": {},
   "outputs": [],
   "source": [
    "# convert tweet_id from float to string\n",
    "df.tweet_id = df.tweet_id.astype(str)"
   ]
  },
  {
   "cell_type": "markdown",
   "metadata": {},
   "source": [
    "## Test\n"
   ]
  },
  {
   "cell_type": "code",
   "execution_count": 37,
   "metadata": {},
   "outputs": [
    {
     "data": {
      "text/plain": [
       "tweet_id              object\n",
       "timestamp             object\n",
       "source                object\n",
       "text                  object\n",
       "expanded_urls         object\n",
       "rating_numerator       int64\n",
       "rating_denominator     int64\n",
       "name                  object\n",
       "doggo                 object\n",
       "floofer               object\n",
       "pupper                object\n",
       "puppo                 object\n",
       "dtype: object"
      ]
     },
     "execution_count": 37,
     "metadata": {},
     "output_type": "execute_result"
    }
   ],
   "source": [
    "df.dtypes"
   ]
  },
  {
   "cell_type": "markdown",
   "metadata": {},
   "source": [
    "## Issue \n",
    "### 3 - The null values inside the four columns ( doggo , floofer , pupper , puppo ) it should  come as (null) not (None), so replaceing the none in doggo and floofer and pupper and puppo columns as null.\n",
    "\n",
    "\n",
    "## Code\n"
   ]
  },
  {
   "cell_type": "code",
   "execution_count": 38,
   "metadata": {},
   "outputs": [],
   "source": [
    "#replaceing the none in doggo and floofer and pupper and puppo columns as null.\n",
    "df[\"doggo\"] = df[\"doggo\"].replace(\"None\", \"\")\n",
    "df[\"floofer\"] = df[\"floofer\"].replace(\"None\", \"\")\n",
    "df[\"pupper\"] = df[\"pupper\"].replace(\"None\", \"\")\n",
    "df[\"puppo\"] = df[\"puppo\"].replace(\"None\", \"\")"
   ]
  },
  {
   "cell_type": "markdown",
   "metadata": {},
   "source": [
    "## Test\n"
   ]
  },
  {
   "cell_type": "code",
   "execution_count": 39,
   "metadata": {},
   "outputs": [
    {
     "data": {
      "text/plain": [
       "         2326\n",
       "puppo      30\n",
       "Name: puppo, dtype: int64"
      ]
     },
     "execution_count": 39,
     "metadata": {},
     "output_type": "execute_result"
    }
   ],
   "source": [
    "df[\"puppo\"].value_counts()"
   ]
  },
  {
   "cell_type": "markdown",
   "metadata": {},
   "source": [
    "## Issue \n",
    "### 4- I can merge these four columns ( doggo , floofer , pupper , puppo ) in to one, so i merge all these doggo and floofer and pupper and puppo columns to one columns.\n",
    "\n",
    "\n",
    "\n",
    "## Code"
   ]
  },
  {
   "cell_type": "code",
   "execution_count": 40,
   "metadata": {},
   "outputs": [],
   "source": [
    "#i merge all these doggo and floofer and pupper and puppo columns to one columns.\n",
    "df[\"dog_stage\"] = df[\"doggo\"] + df[\"floofer\"] + df[\"pupper\"] + df[\"puppo\"]\n"
   ]
  },
  {
   "cell_type": "markdown",
   "metadata": {},
   "source": [
    "## Test\n"
   ]
  },
  {
   "cell_type": "code",
   "execution_count": 41,
   "metadata": {},
   "outputs": [
    {
     "data": {
      "text/plain": [
       "                1976\n",
       "pupper           245\n",
       "doggo             83\n",
       "puppo             29\n",
       "doggopupper       12\n",
       "floofer            9\n",
       "doggofloofer       1\n",
       "doggopuppo         1\n",
       "Name: dog_stage, dtype: int64"
      ]
     },
     "execution_count": 41,
     "metadata": {},
     "output_type": "execute_result"
    }
   ],
   "source": [
    "df[\"dog_stage\"].value_counts()"
   ]
  },
  {
   "cell_type": "code",
   "execution_count": 42,
   "metadata": {},
   "outputs": [
    {
     "data": {
      "text/plain": [
       "pupper          245\n",
       "doggo            83\n",
       "puppo            29\n",
       "doggopupper      12\n",
       "floofer           9\n",
       "doggofloofer      1\n",
       "doggopuppo        1\n",
       "Name: dog_stage, dtype: int64"
      ]
     },
     "execution_count": 42,
     "metadata": {},
     "output_type": "execute_result"
    }
   ],
   "source": [
    "#replaceing the speace as null.\n",
    "df[\"dog_stage\"] = df[\"dog_stage\"].replace('',np.nan)\n",
    "df[\"dog_stage\"].value_counts()"
   ]
  },
  {
   "cell_type": "markdown",
   "metadata": {},
   "source": [
    "## Issue \n",
    "### 5-  i fund a non type in dog_stage columns, so i replacing them to understanding them."
   ]
  },
  {
   "cell_type": "code",
   "execution_count": 43,
   "metadata": {},
   "outputs": [],
   "source": [
    "df.loc[df[\"dog_stage\"] == \"doggofloofer\", \"dog_stage\"] = \"dpggp, floofer\"\n",
    "df.loc[df[\"dog_stage\"] == \"doggopupper\", \"dog_stage\"] = \"doggo, puppo\"\n",
    "df.loc[df[\"dog_stage\"] == \"doggopuppo\", \"dog_stage\"] = \"dpggp, puppo\"\n"
   ]
  },
  {
   "cell_type": "markdown",
   "metadata": {},
   "source": [
    "## Test\n"
   ]
  },
  {
   "cell_type": "code",
   "execution_count": 44,
   "metadata": {},
   "outputs": [
    {
     "data": {
      "text/plain": [
       "pupper            245\n",
       "doggo              83\n",
       "puppo              29\n",
       "doggo, puppo       12\n",
       "floofer             9\n",
       "dpggp, floofer      1\n",
       "dpggp, puppo        1\n",
       "Name: dog_stage, dtype: int64"
      ]
     },
     "execution_count": 44,
     "metadata": {},
     "output_type": "execute_result"
    }
   ],
   "source": [
    "df[\"dog_stage\"].value_counts()"
   ]
  },
  {
   "cell_type": "markdown",
   "metadata": {},
   "source": [
    "## Issue \n",
    "### 6- i drop unwanted columns after we merge them \n",
    "\n",
    "\n",
    "\n",
    "## Code"
   ]
  },
  {
   "cell_type": "code",
   "execution_count": 45,
   "metadata": {},
   "outputs": [],
   "source": [
    "df = df.drop(['doggo','floofer', 'pupper' , 'puppo'],axis=1)\n"
   ]
  },
  {
   "cell_type": "markdown",
   "metadata": {},
   "source": [
    "## Test\n"
   ]
  },
  {
   "cell_type": "code",
   "execution_count": 46,
   "metadata": {},
   "outputs": [
    {
     "data": {
      "text/html": [
       "<div>\n",
       "<style scoped>\n",
       "    .dataframe tbody tr th:only-of-type {\n",
       "        vertical-align: middle;\n",
       "    }\n",
       "\n",
       "    .dataframe tbody tr th {\n",
       "        vertical-align: top;\n",
       "    }\n",
       "\n",
       "    .dataframe thead th {\n",
       "        text-align: right;\n",
       "    }\n",
       "</style>\n",
       "<table border=\"1\" class=\"dataframe\">\n",
       "  <thead>\n",
       "    <tr style=\"text-align: right;\">\n",
       "      <th></th>\n",
       "      <th>tweet_id</th>\n",
       "      <th>timestamp</th>\n",
       "      <th>source</th>\n",
       "      <th>text</th>\n",
       "      <th>expanded_urls</th>\n",
       "      <th>rating_numerator</th>\n",
       "      <th>rating_denominator</th>\n",
       "      <th>name</th>\n",
       "      <th>dog_stage</th>\n",
       "    </tr>\n",
       "  </thead>\n",
       "  <tbody>\n",
       "    <tr>\n",
       "      <th>0</th>\n",
       "      <td>892420643555336193</td>\n",
       "      <td>2017-08-01 16:23:56 +0000</td>\n",
       "      <td>&lt;a href=\"http://twitter.com/download/iphone\" r...</td>\n",
       "      <td>This is Phineas. He's a mystical boy. Only eve...</td>\n",
       "      <td>https://twitter.com/dog_rates/status/892420643...</td>\n",
       "      <td>13</td>\n",
       "      <td>10</td>\n",
       "      <td>Phineas</td>\n",
       "      <td>NaN</td>\n",
       "    </tr>\n",
       "    <tr>\n",
       "      <th>1</th>\n",
       "      <td>892177421306343426</td>\n",
       "      <td>2017-08-01 00:17:27 +0000</td>\n",
       "      <td>&lt;a href=\"http://twitter.com/download/iphone\" r...</td>\n",
       "      <td>This is Tilly. She's just checking pup on you....</td>\n",
       "      <td>https://twitter.com/dog_rates/status/892177421...</td>\n",
       "      <td>13</td>\n",
       "      <td>10</td>\n",
       "      <td>Tilly</td>\n",
       "      <td>NaN</td>\n",
       "    </tr>\n",
       "    <tr>\n",
       "      <th>2</th>\n",
       "      <td>891815181378084864</td>\n",
       "      <td>2017-07-31 00:18:03 +0000</td>\n",
       "      <td>&lt;a href=\"http://twitter.com/download/iphone\" r...</td>\n",
       "      <td>This is Archie. He is a rare Norwegian Pouncin...</td>\n",
       "      <td>https://twitter.com/dog_rates/status/891815181...</td>\n",
       "      <td>12</td>\n",
       "      <td>10</td>\n",
       "      <td>Archie</td>\n",
       "      <td>NaN</td>\n",
       "    </tr>\n",
       "    <tr>\n",
       "      <th>3</th>\n",
       "      <td>891689557279858688</td>\n",
       "      <td>2017-07-30 15:58:51 +0000</td>\n",
       "      <td>&lt;a href=\"http://twitter.com/download/iphone\" r...</td>\n",
       "      <td>This is Darla. She commenced a snooze mid meal...</td>\n",
       "      <td>https://twitter.com/dog_rates/status/891689557...</td>\n",
       "      <td>13</td>\n",
       "      <td>10</td>\n",
       "      <td>Darla</td>\n",
       "      <td>NaN</td>\n",
       "    </tr>\n",
       "    <tr>\n",
       "      <th>4</th>\n",
       "      <td>891327558926688256</td>\n",
       "      <td>2017-07-29 16:00:24 +0000</td>\n",
       "      <td>&lt;a href=\"http://twitter.com/download/iphone\" r...</td>\n",
       "      <td>This is Franklin. He would like you to stop ca...</td>\n",
       "      <td>https://twitter.com/dog_rates/status/891327558...</td>\n",
       "      <td>12</td>\n",
       "      <td>10</td>\n",
       "      <td>Franklin</td>\n",
       "      <td>NaN</td>\n",
       "    </tr>\n",
       "  </tbody>\n",
       "</table>\n",
       "</div>"
      ],
      "text/plain": [
       "             tweet_id                  timestamp                                             source                                               text                                      expanded_urls  rating_numerator  rating_denominator      name dog_stage\n",
       "0  892420643555336193  2017-08-01 16:23:56 +0000  <a href=\"http://twitter.com/download/iphone\" r...  This is Phineas. He's a mystical boy. Only eve...  https://twitter.com/dog_rates/status/892420643...                13                  10   Phineas       NaN\n",
       "1  892177421306343426  2017-08-01 00:17:27 +0000  <a href=\"http://twitter.com/download/iphone\" r...  This is Tilly. She's just checking pup on you....  https://twitter.com/dog_rates/status/892177421...                13                  10     Tilly       NaN\n",
       "2  891815181378084864  2017-07-31 00:18:03 +0000  <a href=\"http://twitter.com/download/iphone\" r...  This is Archie. He is a rare Norwegian Pouncin...  https://twitter.com/dog_rates/status/891815181...                12                  10    Archie       NaN\n",
       "3  891689557279858688  2017-07-30 15:58:51 +0000  <a href=\"http://twitter.com/download/iphone\" r...  This is Darla. She commenced a snooze mid meal...  https://twitter.com/dog_rates/status/891689557...                13                  10     Darla       NaN\n",
       "4  891327558926688256  2017-07-29 16:00:24 +0000  <a href=\"http://twitter.com/download/iphone\" r...  This is Franklin. He would like you to stop ca...  https://twitter.com/dog_rates/status/891327558...                12                  10  Franklin       NaN"
      ]
     },
     "execution_count": 46,
     "metadata": {},
     "output_type": "execute_result"
    }
   ],
   "source": [
    "df.head()"
   ]
  },
  {
   "cell_type": "markdown",
   "metadata": {},
   "source": [
    "## Issue \n",
    "## 7- coordinates, contributors, geo they are empty so drop it.\n",
    "\n",
    "\n",
    "## Code"
   ]
  },
  {
   "cell_type": "code",
   "execution_count": 47,
   "metadata": {},
   "outputs": [
    {
     "name": "stdout",
     "output_type": "stream",
     "text": [
      "<class 'pandas.core.frame.DataFrame'>\n",
      "RangeIndex: 2354 entries, 0 to 2353\n",
      "Data columns (total 18 columns):\n",
      "created_at                       2354 non-null object\n",
      "display_text_range               2354 non-null object\n",
      "entities                         2354 non-null object\n",
      "extended_entities                2073 non-null object\n",
      "favorite_count                   2354 non-null int64\n",
      "favorited                        2354 non-null bool\n",
      "full_text                        2354 non-null object\n",
      "id                               2354 non-null int64\n",
      "id_str                           2354 non-null object\n",
      "is_quote_status                  2354 non-null bool\n",
      "lang                             2354 non-null object\n",
      "possibly_sensitive               2211 non-null object\n",
      "possibly_sensitive_appealable    2211 non-null object\n",
      "retweet_count                    2354 non-null int64\n",
      "retweeted                        2354 non-null bool\n",
      "source                           2354 non-null object\n",
      "truncated                        2354 non-null bool\n",
      "user                             2354 non-null object\n",
      "dtypes: bool(4), int64(3), object(11)\n",
      "memory usage: 266.7+ KB\n"
     ]
    }
   ],
   "source": [
    "#drop unwanted columns.\n",
    "df_json = df_json.drop(['contributors','coordinates','geo','in_reply_to_screen_name' , 'in_reply_to_screen_name', 'in_reply_to_status_id' , 'in_reply_to_status_id_str' , 'in_reply_to_user_id' , 'in_reply_to_user_id_str' , 'place' , 'quoted_status' , 'quoted_status_id' , 'quoted_status_id_str' , 'retweeted_status' ], axis=1)\n",
    "df_json.info()"
   ]
  },
  {
   "cell_type": "markdown",
   "metadata": {},
   "source": [
    "## Test\n"
   ]
  },
  {
   "cell_type": "code",
   "execution_count": 48,
   "metadata": {},
   "outputs": [
    {
     "name": "stdout",
     "output_type": "stream",
     "text": [
      "<class 'pandas.core.frame.DataFrame'>\n",
      "RangeIndex: 2354 entries, 0 to 2353\n",
      "Data columns (total 18 columns):\n",
      "created_at                       2354 non-null object\n",
      "display_text_range               2354 non-null object\n",
      "entities                         2354 non-null object\n",
      "extended_entities                2073 non-null object\n",
      "favorite_count                   2354 non-null int64\n",
      "favorited                        2354 non-null bool\n",
      "full_text                        2354 non-null object\n",
      "id                               2354 non-null int64\n",
      "id_str                           2354 non-null object\n",
      "is_quote_status                  2354 non-null bool\n",
      "lang                             2354 non-null object\n",
      "possibly_sensitive               2211 non-null object\n",
      "possibly_sensitive_appealable    2211 non-null object\n",
      "retweet_count                    2354 non-null int64\n",
      "retweeted                        2354 non-null bool\n",
      "source                           2354 non-null object\n",
      "truncated                        2354 non-null bool\n",
      "user                             2354 non-null object\n",
      "dtypes: bool(4), int64(3), object(11)\n",
      "memory usage: 266.7+ KB\n"
     ]
    }
   ],
   "source": [
    "df_json.info()"
   ]
  },
  {
   "cell_type": "code",
   "execution_count": 49,
   "metadata": {},
   "outputs": [],
   "source": [
    "df_json.id = df_json.id.astype(str)"
   ]
  },
  {
   "cell_type": "markdown",
   "metadata": {},
   "source": [
    "## Issue \n",
    "### 8- display_text_range contain multi value, we need only the second value. \n",
    "\n",
    "\n",
    "## Code"
   ]
  },
  {
   "cell_type": "code",
   "execution_count": 50,
   "metadata": {},
   "outputs": [],
   "source": [
    "# Create a new list to store the value for the end of tweet\n",
    "end_tweet= []\n",
    "for i in df_json.display_text_range:\n",
    "    end_tweet.append(i[1])"
   ]
  },
  {
   "cell_type": "code",
   "execution_count": 51,
   "metadata": {},
   "outputs": [],
   "source": [
    "# assign the new value to the Display_text_range column\n",
    "df_json.display_text_range = end_tweet"
   ]
  },
  {
   "cell_type": "markdown",
   "metadata": {},
   "source": [
    "## Test\n"
   ]
  },
  {
   "cell_type": "code",
   "execution_count": 52,
   "metadata": {},
   "outputs": [
    {
     "data": {
      "text/html": [
       "<div>\n",
       "<style scoped>\n",
       "    .dataframe tbody tr th:only-of-type {\n",
       "        vertical-align: middle;\n",
       "    }\n",
       "\n",
       "    .dataframe tbody tr th {\n",
       "        vertical-align: top;\n",
       "    }\n",
       "\n",
       "    .dataframe thead th {\n",
       "        text-align: right;\n",
       "    }\n",
       "</style>\n",
       "<table border=\"1\" class=\"dataframe\">\n",
       "  <thead>\n",
       "    <tr style=\"text-align: right;\">\n",
       "      <th></th>\n",
       "      <th>created_at</th>\n",
       "      <th>display_text_range</th>\n",
       "      <th>entities</th>\n",
       "      <th>extended_entities</th>\n",
       "      <th>favorite_count</th>\n",
       "      <th>favorited</th>\n",
       "      <th>full_text</th>\n",
       "      <th>id</th>\n",
       "      <th>id_str</th>\n",
       "      <th>is_quote_status</th>\n",
       "      <th>lang</th>\n",
       "      <th>possibly_sensitive</th>\n",
       "      <th>possibly_sensitive_appealable</th>\n",
       "      <th>retweet_count</th>\n",
       "      <th>retweeted</th>\n",
       "      <th>source</th>\n",
       "      <th>truncated</th>\n",
       "      <th>user</th>\n",
       "    </tr>\n",
       "  </thead>\n",
       "  <tbody>\n",
       "    <tr>\n",
       "      <th>0</th>\n",
       "      <td>Tue Aug 01 16:23:56 +0000 2017</td>\n",
       "      <td>85</td>\n",
       "      <td>{'hashtags': [], 'symbols': [], 'user_mentions...</td>\n",
       "      <td>{'media': [{'id': 892420639486877696, 'id_str'...</td>\n",
       "      <td>39467</td>\n",
       "      <td>False</td>\n",
       "      <td>This is Phineas. He's a mystical boy. Only eve...</td>\n",
       "      <td>892420643555336193</td>\n",
       "      <td>892420643555336193</td>\n",
       "      <td>False</td>\n",
       "      <td>en</td>\n",
       "      <td>False</td>\n",
       "      <td>False</td>\n",
       "      <td>8853</td>\n",
       "      <td>False</td>\n",
       "      <td>&lt;a href=\"http://twitter.com/download/iphone\" r...</td>\n",
       "      <td>False</td>\n",
       "      <td>{'id': 4196983835, 'id_str': '4196983835', 'na...</td>\n",
       "    </tr>\n",
       "    <tr>\n",
       "      <th>1</th>\n",
       "      <td>Tue Aug 01 00:17:27 +0000 2017</td>\n",
       "      <td>138</td>\n",
       "      <td>{'hashtags': [], 'symbols': [], 'user_mentions...</td>\n",
       "      <td>{'media': [{'id': 892177413194625024, 'id_str'...</td>\n",
       "      <td>33819</td>\n",
       "      <td>False</td>\n",
       "      <td>This is Tilly. She's just checking pup on you....</td>\n",
       "      <td>892177421306343426</td>\n",
       "      <td>892177421306343426</td>\n",
       "      <td>False</td>\n",
       "      <td>en</td>\n",
       "      <td>False</td>\n",
       "      <td>False</td>\n",
       "      <td>6514</td>\n",
       "      <td>False</td>\n",
       "      <td>&lt;a href=\"http://twitter.com/download/iphone\" r...</td>\n",
       "      <td>False</td>\n",
       "      <td>{'id': 4196983835, 'id_str': '4196983835', 'na...</td>\n",
       "    </tr>\n",
       "  </tbody>\n",
       "</table>\n",
       "</div>"
      ],
      "text/plain": [
       "                       created_at  display_text_range                                           entities                                  extended_entities  favorite_count  favorited                                          full_text                  id              id_str  is_quote_status lang possibly_sensitive possibly_sensitive_appealable  retweet_count  retweeted                                             source  truncated                                               user\n",
       "0  Tue Aug 01 16:23:56 +0000 2017                  85  {'hashtags': [], 'symbols': [], 'user_mentions...  {'media': [{'id': 892420639486877696, 'id_str'...           39467      False  This is Phineas. He's a mystical boy. Only eve...  892420643555336193  892420643555336193            False   en              False                         False           8853      False  <a href=\"http://twitter.com/download/iphone\" r...      False  {'id': 4196983835, 'id_str': '4196983835', 'na...\n",
       "1  Tue Aug 01 00:17:27 +0000 2017                 138  {'hashtags': [], 'symbols': [], 'user_mentions...  {'media': [{'id': 892177413194625024, 'id_str'...           33819      False  This is Tilly. She's just checking pup on you....  892177421306343426  892177421306343426            False   en              False                         False           6514      False  <a href=\"http://twitter.com/download/iphone\" r...      False  {'id': 4196983835, 'id_str': '4196983835', 'na..."
      ]
     },
     "execution_count": 52,
     "metadata": {},
     "output_type": "execute_result"
    }
   ],
   "source": [
    "df_json.head(2)"
   ]
  },
  {
   "cell_type": "markdown",
   "metadata": {},
   "source": [
    "## Issue \n",
    "### 9- create a new columns breed_confidence.\n",
    "\n",
    "\n",
    "## Code\n"
   ]
  },
  {
   "cell_type": "code",
   "execution_count": 53,
   "metadata": {},
   "outputs": [],
   "source": [
    "#create a new columns breed_confidence.\n",
    "breed = []\n",
    "confidence = []\n",
    "\n",
    "def breed_confidence(row):\n",
    "    if row['p1_dog'] == True:\n",
    "        breed.append(row['p1'])\n",
    "        confidence.append(row['p1_conf'])\n",
    "    elif row['p2_dog'] == True:\n",
    "        breed.append(row['p2'])\n",
    "        confidence.append(row['p2_conf'])\n",
    "    elif row['p3_dog'] == True:\n",
    "        breed.append(row['p3'])\n",
    "        confidence.append(row['p3_conf'])\n",
    "    else:\n",
    "        breed.append('Unidentifiable')\n",
    "        confidence.append(0)\n",
    "      \n",
    "\n",
    "image_prediction_df.apply(breed_confidence, axis=1)\n",
    "image_prediction_df['breed'] = breed\n",
    "image_prediction_df['confidence'] = confidence\n",
    "\n",
    "\n",
    "#note this code was taken from this source : http://empierce.com/2017/11/14/wrangling-weratedogs/"
   ]
  },
  {
   "cell_type": "code",
   "execution_count": 54,
   "metadata": {},
   "outputs": [],
   "source": [
    "## Test\n"
   ]
  },
  {
   "cell_type": "code",
   "execution_count": 55,
   "metadata": {},
   "outputs": [
    {
     "data": {
      "text/html": [
       "<div>\n",
       "<style scoped>\n",
       "    .dataframe tbody tr th:only-of-type {\n",
       "        vertical-align: middle;\n",
       "    }\n",
       "\n",
       "    .dataframe tbody tr th {\n",
       "        vertical-align: top;\n",
       "    }\n",
       "\n",
       "    .dataframe thead th {\n",
       "        text-align: right;\n",
       "    }\n",
       "</style>\n",
       "<table border=\"1\" class=\"dataframe\">\n",
       "  <thead>\n",
       "    <tr style=\"text-align: right;\">\n",
       "      <th></th>\n",
       "      <th>tweet_id</th>\n",
       "      <th>jpg_url</th>\n",
       "      <th>img_num</th>\n",
       "      <th>p1</th>\n",
       "      <th>p1_conf</th>\n",
       "      <th>p1_dog</th>\n",
       "      <th>p2</th>\n",
       "      <th>p2_conf</th>\n",
       "      <th>p2_dog</th>\n",
       "      <th>p3</th>\n",
       "      <th>p3_conf</th>\n",
       "      <th>p3_dog</th>\n",
       "      <th>breed</th>\n",
       "      <th>confidence</th>\n",
       "    </tr>\n",
       "  </thead>\n",
       "  <tbody>\n",
       "    <tr>\n",
       "      <th>0</th>\n",
       "      <td>666020888022790149</td>\n",
       "      <td>https://pbs.twimg.com/media/CT4udn0WwAA0aMy.jpg</td>\n",
       "      <td>1</td>\n",
       "      <td>Welsh_springer_spaniel</td>\n",
       "      <td>0.465074</td>\n",
       "      <td>True</td>\n",
       "      <td>collie</td>\n",
       "      <td>0.156665</td>\n",
       "      <td>True</td>\n",
       "      <td>Shetland_sheepdog</td>\n",
       "      <td>0.061428</td>\n",
       "      <td>True</td>\n",
       "      <td>Welsh_springer_spaniel</td>\n",
       "      <td>0.465074</td>\n",
       "    </tr>\n",
       "    <tr>\n",
       "      <th>1</th>\n",
       "      <td>666029285002620928</td>\n",
       "      <td>https://pbs.twimg.com/media/CT42GRgUYAA5iDo.jpg</td>\n",
       "      <td>1</td>\n",
       "      <td>redbone</td>\n",
       "      <td>0.506826</td>\n",
       "      <td>True</td>\n",
       "      <td>miniature_pinscher</td>\n",
       "      <td>0.074192</td>\n",
       "      <td>True</td>\n",
       "      <td>Rhodesian_ridgeback</td>\n",
       "      <td>0.072010</td>\n",
       "      <td>True</td>\n",
       "      <td>redbone</td>\n",
       "      <td>0.506826</td>\n",
       "    </tr>\n",
       "    <tr>\n",
       "      <th>2</th>\n",
       "      <td>666033412701032449</td>\n",
       "      <td>https://pbs.twimg.com/media/CT4521TWwAEvMyu.jpg</td>\n",
       "      <td>1</td>\n",
       "      <td>German_shepherd</td>\n",
       "      <td>0.596461</td>\n",
       "      <td>True</td>\n",
       "      <td>malinois</td>\n",
       "      <td>0.138584</td>\n",
       "      <td>True</td>\n",
       "      <td>bloodhound</td>\n",
       "      <td>0.116197</td>\n",
       "      <td>True</td>\n",
       "      <td>German_shepherd</td>\n",
       "      <td>0.596461</td>\n",
       "    </tr>\n",
       "    <tr>\n",
       "      <th>3</th>\n",
       "      <td>666044226329800704</td>\n",
       "      <td>https://pbs.twimg.com/media/CT5Dr8HUEAA-lEu.jpg</td>\n",
       "      <td>1</td>\n",
       "      <td>Rhodesian_ridgeback</td>\n",
       "      <td>0.408143</td>\n",
       "      <td>True</td>\n",
       "      <td>redbone</td>\n",
       "      <td>0.360687</td>\n",
       "      <td>True</td>\n",
       "      <td>miniature_pinscher</td>\n",
       "      <td>0.222752</td>\n",
       "      <td>True</td>\n",
       "      <td>Rhodesian_ridgeback</td>\n",
       "      <td>0.408143</td>\n",
       "    </tr>\n",
       "    <tr>\n",
       "      <th>4</th>\n",
       "      <td>666049248165822465</td>\n",
       "      <td>https://pbs.twimg.com/media/CT5IQmsXIAAKY4A.jpg</td>\n",
       "      <td>1</td>\n",
       "      <td>miniature_pinscher</td>\n",
       "      <td>0.560311</td>\n",
       "      <td>True</td>\n",
       "      <td>Rottweiler</td>\n",
       "      <td>0.243682</td>\n",
       "      <td>True</td>\n",
       "      <td>Doberman</td>\n",
       "      <td>0.154629</td>\n",
       "      <td>True</td>\n",
       "      <td>miniature_pinscher</td>\n",
       "      <td>0.560311</td>\n",
       "    </tr>\n",
       "  </tbody>\n",
       "</table>\n",
       "</div>"
      ],
      "text/plain": [
       "             tweet_id                                          jpg_url  img_num                      p1   p1_conf  p1_dog                  p2   p2_conf  p2_dog                   p3   p3_conf  p3_dog                   breed  confidence\n",
       "0  666020888022790149  https://pbs.twimg.com/media/CT4udn0WwAA0aMy.jpg        1  Welsh_springer_spaniel  0.465074    True              collie  0.156665    True    Shetland_sheepdog  0.061428    True  Welsh_springer_spaniel    0.465074\n",
       "1  666029285002620928  https://pbs.twimg.com/media/CT42GRgUYAA5iDo.jpg        1                 redbone  0.506826    True  miniature_pinscher  0.074192    True  Rhodesian_ridgeback  0.072010    True                 redbone    0.506826\n",
       "2  666033412701032449  https://pbs.twimg.com/media/CT4521TWwAEvMyu.jpg        1         German_shepherd  0.596461    True            malinois  0.138584    True           bloodhound  0.116197    True         German_shepherd    0.596461\n",
       "3  666044226329800704  https://pbs.twimg.com/media/CT5Dr8HUEAA-lEu.jpg        1     Rhodesian_ridgeback  0.408143    True             redbone  0.360687    True   miniature_pinscher  0.222752    True     Rhodesian_ridgeback    0.408143\n",
       "4  666049248165822465  https://pbs.twimg.com/media/CT5IQmsXIAAKY4A.jpg        1      miniature_pinscher  0.560311    True          Rottweiler  0.243682    True             Doberman  0.154629    True      miniature_pinscher    0.560311"
      ]
     },
     "execution_count": 55,
     "metadata": {},
     "output_type": "execute_result"
    }
   ],
   "source": [
    "image_prediction_df.head()\n"
   ]
  },
  {
   "cell_type": "code",
   "execution_count": 56,
   "metadata": {},
   "outputs": [],
   "source": [
    "image_prediction_df.tweet_id = image_prediction_df.tweet_id.astype(str)"
   ]
  },
  {
   "cell_type": "markdown",
   "metadata": {},
   "source": [
    "## Issue \n",
    "### 10- In p1, p2 and p3 some of the dog names wrote as lowercase and other  is uppercase.\n",
    "\n",
    "\n",
    "## Code\n"
   ]
  },
  {
   "cell_type": "code",
   "execution_count": 57,
   "metadata": {},
   "outputs": [
    {
     "data": {
      "text/plain": [
       "golden_retriever                  150\n",
       "Labrador_retriever                100\n",
       "Pembroke                           89\n",
       "Chihuahua                          83\n",
       "pug                                57\n",
       "chow                               44\n",
       "Samoyed                            43\n",
       "toy_poodle                         39\n",
       "Pomeranian                         38\n",
       "cocker_spaniel                     30\n",
       "malamute                           30\n",
       "French_bulldog                     26\n",
       "miniature_pinscher                 23\n",
       "Chesapeake_Bay_retriever           23\n",
       "seat_belt                          22\n",
       "Siberian_husky                     20\n",
       "Staffordshire_bullterrier          20\n",
       "German_shepherd                    20\n",
       "Cardigan                           19\n",
       "web_site                           19\n",
       "Eskimo_dog                         18\n",
       "teddy                              18\n",
       "Shetland_sheepdog                  18\n",
       "Maltese_dog                        18\n",
       "beagle                             18\n",
       "Shih-Tzu                           17\n",
       "Rottweiler                         17\n",
       "Lakeland_terrier                   17\n",
       "kuvasz                             16\n",
       "Italian_greyhound                  16\n",
       "West_Highland_white_terrier        14\n",
       "Great_Pyrenees                     14\n",
       "basset                             13\n",
       "vizsla                             13\n",
       "dalmatian                          13\n",
       "Pekinese                           13\n",
       "American_Staffordshire_terrier     13\n",
       "Airedale                           12\n",
       "Border_collie                      12\n",
       "Old_English_sheepdog               12\n",
       "kelpie                             11\n",
       "soft-coated_wheaten_terrier        11\n",
       "Blenheim_spaniel                   11\n",
       "English_springer                   10\n",
       "collie                             10\n",
       "Bernese_mountain_dog               10\n",
       "boxer                              10\n",
       "schipperke                         10\n",
       "tennis_ball                         9\n",
       "borzoi                              9\n",
       "Great_Dane                          9\n",
       "whippet                             9\n",
       "dingo                               9\n",
       "Boston_bull                         9\n",
       "malinois                            9\n",
       "doormat                             8\n",
       "Yorkshire_terrier                   8\n",
       "Doberman                            8\n",
       "papillon                            8\n",
       "English_setter                      8\n",
       "flat-coated_retriever               8\n",
       "Norwegian_elkhound                  8\n",
       "standard_poodle                     8\n",
       "miniature_poodle                    8\n",
       "Saint_Bernard                       7\n",
       "bloodhound                          7\n",
       "swing                               7\n",
       "hamster                             7\n",
       "basenji                             7\n",
       "tub                                 7\n",
       "Brittany_spaniel                    7\n",
       "Border_terrier                      7\n",
       "Siamese_cat                         7\n",
       "bath_towel                          7\n",
       "German_short-haired_pointer         7\n",
       "Norfolk_terrier                     7\n",
       "llama                               6\n",
       "home_theater                        6\n",
       "Dandie_Dinmont                      6\n",
       "Irish_terrier                       6\n",
       "ice_bear                            6\n",
       "redbone                             6\n",
       "Irish_setter                        6\n",
       "car_mirror                          6\n",
       "minivan                             5\n",
       "shopping_cart                       5\n",
       "Lhasa                               5\n",
       "Tibetan_mastiff                     5\n",
       "Walker_hound                        5\n",
       "bull_mastiff                        5\n",
       "Bedlington_terrier                  5\n",
       "hippopotamus                        5\n",
       "ox                                  5\n",
       "Newfoundland                        5\n",
       "porcupine                           5\n",
       "Gordon_setter                       4\n",
       "jigsaw_puzzle                       4\n",
       "patio                               4\n",
       "Mexican_hairless                    4\n",
       "brown_bear                          4\n",
       "Saluki                              4\n",
       "bluetick                            4\n",
       "Tibetan_terrier                     4\n",
       "Arctic_fox                          4\n",
       "hog                                 4\n",
       "miniature_schnauzer                 4\n",
       "guinea_pig                          4\n",
       "bow_tie                             4\n",
       "Weimaraner                          4\n",
       "Rhodesian_ridgeback                 4\n",
       "goose                               4\n",
       "Norwich_terrier                     4\n",
       "wombat                              4\n",
       "Afghan_hound                        4\n",
       "bathtub                             4\n",
       "keeshond                            4\n",
       "barrow                              4\n",
       "Greater_Swiss_Mountain_dog          3\n",
       "common_iguana                       3\n",
       "briard                              3\n",
       "stone_wall                          3\n",
       "Brabancon_griffon                   3\n",
       "komondor                            3\n",
       "motor_scooter                       3\n",
       "curly-coated_retriever              3\n",
       "Scottish_deerhound                  3\n",
       "washbasin                           3\n",
       "window_shade                        3\n",
       "mousetrap                           3\n",
       "ski_mask                            3\n",
       "Welsh_springer_spaniel              3\n",
       "Leonberg                            3\n",
       "white_wolf                          3\n",
       "wood_rabbit                         3\n",
       "comic_book                          3\n",
       "triceratops                         3\n",
       "sea_lion                            3\n",
       "cowboy_hat                          3\n",
       "ram                                 3\n",
       "Arabian_camel                       3\n",
       "vacuum                              3\n",
       "giant_schnauzer                     3\n",
       "prison                              3\n",
       "balloon                             3\n",
       "space_heater                        3\n",
       "Ibizan_hound                        3\n",
       "seashore                            3\n",
       "Christmas_stocking                  3\n",
       "refrigerator                        3\n",
       "dishwasher                          3\n",
       "muzzle                              3\n",
       "Irish_water_spaniel                 3\n",
       "toilet_tissue                       3\n",
       "cairn                               3\n",
       "jack-o'-lantern                     3\n",
       "lakeside                            2\n",
       "Appenzeller                         2\n",
       "box_turtle                          2\n",
       "meerkat                             2\n",
       "bubble                              2\n",
       "toyshop                             2\n",
       "sorrel                              2\n",
       "koala                               2\n",
       "Australian_terrier                  2\n",
       "black-and-tan_coonhound             2\n",
       "ostrich                             2\n",
       "paper_towel                         2\n",
       "hermit_crab                         2\n",
       "weasel                              2\n",
       "cash_machine                        2\n",
       "jellyfish                           2\n",
       "toy_terrier                         2\n",
       "upright                             2\n",
       "paddle                              2\n",
       "Angora                              2\n",
       "bustard                             2\n",
       "acorn_squash                        2\n",
       "hyena                               2\n",
       "gondola                             2\n",
       "shower_curtain                      2\n",
       "Sussex_spaniel                      2\n",
       "axolotl                             2\n",
       "gas_pump                            2\n",
       "wool                                2\n",
       "frilled_lizard                      2\n",
       "tabby                               2\n",
       "laptop                              2\n",
       "hen                                 2\n",
       "geyser                              2\n",
       "dough                               2\n",
       "wire-haired_fox_terrier             2\n",
       "snorkel                             2\n",
       "leatherback_turtle                  2\n",
       "Loafer                              2\n",
       "snail                               2\n",
       "street_sign                         2\n",
       "dogsled                             2\n",
       "wallaby                             2\n",
       "feather_boa                         2\n",
       "birdhouse                           2\n",
       "chimpanzee                          2\n",
       "tusker                              2\n",
       "badger                              2\n",
       "alp                                 1\n",
       "sea_urchin                          1\n",
       "crane                               1\n",
       "bonnet                              1\n",
       "toilet_seat                         1\n",
       "skunk                               1\n",
       "book_jacket                         1\n",
       "black-footed_ferret                 1\n",
       "maze                                1\n",
       "bow                                 1\n",
       "coil                                1\n",
       "sundial                             1\n",
       "ocarina                             1\n",
       "water_buffalo                       1\n",
       "pitcher                             1\n",
       "bighorn                             1\n",
       "washer                              1\n",
       "bald_eagle                          1\n",
       "school_bus                          1\n",
       "bannister                           1\n",
       "terrapin                            1\n",
       "sliding_door                        1\n",
       "hay                                 1\n",
       "king_penguin                        1\n",
       "nail                                1\n",
       "cup                                 1\n",
       "American_black_bear                 1\n",
       "EntleBucher                         1\n",
       "revolver                            1\n",
       "hammer                              1\n",
       "grille                              1\n",
       "flamingo                            1\n",
       "damselfly                           1\n",
       "shopping_basket                     1\n",
       "basketball                          1\n",
       "mud_turtle                          1\n",
       "wild_boar                           1\n",
       "polecat                             1\n",
       "hand_blower                         1\n",
       "microphone                          1\n",
       "pillow                              1\n",
       "hotdog                              1\n",
       "electric_fan                        1\n",
       "tiger_shark                         1\n",
       "rapeseed                            1\n",
       "timber_wolf                         1\n",
       "leaf_beetle                         1\n",
       "agama                               1\n",
       "zebra                               1\n",
       "lynx                                1\n",
       "loupe                               1\n",
       "scorpion                            1\n",
       "suit                                1\n",
       "restaurant                          1\n",
       "three-toed_sloth                    1\n",
       "desktop_computer                    1\n",
       "binoculars                          1\n",
       "coho                                1\n",
       "sandbar                             1\n",
       "picket_fence                        1\n",
       "bib                                 1\n",
       "pencil_box                          1\n",
       "Egyptian_cat                        1\n",
       "conch                               1\n",
       "boathouse                           1\n",
       "trombone                            1\n",
       "robin                               1\n",
       "minibus                             1\n",
       "rain_barrel                         1\n",
       "jersey                              1\n",
       "piggy_bank                          1\n",
       "Madagascar_cat                      1\n",
       "marmot                              1\n",
       "tailed_frog                         1\n",
       "beaver                              1\n",
       "pot                                 1\n",
       "lawn_mower                          1\n",
       "guenon                              1\n",
       "lacewing                            1\n",
       "platypus                            1\n",
       "sulphur-crested_cockatoo            1\n",
       "ice_lolly                           1\n",
       "limousine                           1\n",
       "convertible                         1\n",
       "handkerchief                        1\n",
       "china_cabinet                       1\n",
       "radio_telescope                     1\n",
       "microwave                           1\n",
       "coffee_mug                          1\n",
       "swab                                1\n",
       "cougar                              1\n",
       "quilt                               1\n",
       "envelope                            1\n",
       "long-horned_beetle                  1\n",
       "tick                                1\n",
       "four-poster                         1\n",
       "cowboy_boot                         1\n",
       "barbell                             1\n",
       "mortarboard                         1\n",
       "ping-pong_ball                      1\n",
       "standard_schnauzer                  1\n",
       "syringe                             1\n",
       "fiddler_crab                        1\n",
       "candle                              1\n",
       "leopard                             1\n",
       "orange                              1\n",
       "cliff                               1\n",
       "carton                              1\n",
       "mailbox                             1\n",
       "African_crocodile                   1\n",
       "park_bench                          1\n",
       "giant_panda                         1\n",
       "dhole                               1\n",
       "panpipe                             1\n",
       "otter                               1\n",
       "walking_stick                       1\n",
       "rotisserie                          1\n",
       "bakery                              1\n",
       "bison                               1\n",
       "dining_table                        1\n",
       "Scotch_terrier                      1\n",
       "fire_engine                         1\n",
       "padlock                             1\n",
       "banana                              1\n",
       "snowmobile                          1\n",
       "fountain                            1\n",
       "slug                                1\n",
       "remote_control                      1\n",
       "tricycle                            1\n",
       "prayer_rug                          1\n",
       "bookshop                            1\n",
       "cheeseburger                        1\n",
       "shield                              1\n",
       "cuirass                             1\n",
       "African_hunting_dog                 1\n",
       "beach_wagon                         1\n",
       "hare                                1\n",
       "grey_fox                            1\n",
       "harp                                1\n",
       "groenendael                         1\n",
       "lion                                1\n",
       "coral_reef                          1\n",
       "silky_terrier                       1\n",
       "wooden_spoon                        1\n",
       "bee_eater                           1\n",
       "lorikeet                            1\n",
       "bookcase                            1\n",
       "pole                                1\n",
       "ibex                                1\n",
       "traffic_light                       1\n",
       "stove                               1\n",
       "clog                                1\n",
       "African_grey                        1\n",
       "bearskin                            1\n",
       "crash_helmet                        1\n",
       "military_uniform                    1\n",
       "clumber                             1\n",
       "Japanese_spaniel                    1\n",
       "peacock                             1\n",
       "killer_whale                        1\n",
       "water_bottle                        1\n",
       "canoe                               1\n",
       "starfish                            1\n",
       "maillot                             1\n",
       "teapot                              1\n",
       "sunglasses                          1\n",
       "carousel                            1\n",
       "pedestal                            1\n",
       "pool_table                          1\n",
       "hummingbird                         1\n",
       "studio_couch                        1\n",
       "soccer_ball                         1\n",
       "earthstar                           1\n",
       "cheetah                             1\n",
       "espresso                            1\n",
       "Name: p1, dtype: int64"
      ]
     },
     "execution_count": 57,
     "metadata": {},
     "output_type": "execute_result"
    }
   ],
   "source": [
    "image_prediction_df[\"p1\"].value_counts()"
   ]
  },
  {
   "cell_type": "code",
   "execution_count": 58,
   "metadata": {},
   "outputs": [],
   "source": [
    "# convert all the values in columns to be as lowercase\n",
    "image_prediction_df.p1 = image_prediction_df.p1.str.lower()\n",
    "image_prediction_df.p2 = image_prediction_df.p2.str.lower()\n",
    "image_prediction_df.p3 = image_prediction_df.p3.str.lower()"
   ]
  },
  {
   "cell_type": "code",
   "execution_count": 59,
   "metadata": {},
   "outputs": [
    {
     "data": {
      "text/plain": [
       "golden_retriever                  150\n",
       "labrador_retriever                100\n",
       "pembroke                           89\n",
       "chihuahua                          83\n",
       "pug                                57\n",
       "chow                               44\n",
       "samoyed                            43\n",
       "toy_poodle                         39\n",
       "pomeranian                         38\n",
       "cocker_spaniel                     30\n",
       "malamute                           30\n",
       "french_bulldog                     26\n",
       "chesapeake_bay_retriever           23\n",
       "miniature_pinscher                 23\n",
       "seat_belt                          22\n",
       "german_shepherd                    20\n",
       "staffordshire_bullterrier          20\n",
       "siberian_husky                     20\n",
       "web_site                           19\n",
       "cardigan                           19\n",
       "beagle                             18\n",
       "shetland_sheepdog                  18\n",
       "teddy                              18\n",
       "eskimo_dog                         18\n",
       "maltese_dog                        18\n",
       "shih-tzu                           17\n",
       "lakeland_terrier                   17\n",
       "rottweiler                         17\n",
       "italian_greyhound                  16\n",
       "kuvasz                             16\n",
       "west_highland_white_terrier        14\n",
       "great_pyrenees                     14\n",
       "american_staffordshire_terrier     13\n",
       "basset                             13\n",
       "dalmatian                          13\n",
       "pekinese                           13\n",
       "vizsla                             13\n",
       "border_collie                      12\n",
       "old_english_sheepdog               12\n",
       "airedale                           12\n",
       "blenheim_spaniel                   11\n",
       "kelpie                             11\n",
       "soft-coated_wheaten_terrier        11\n",
       "bernese_mountain_dog               10\n",
       "english_springer                   10\n",
       "schipperke                         10\n",
       "boxer                              10\n",
       "collie                             10\n",
       "dingo                               9\n",
       "tennis_ball                         9\n",
       "malinois                            9\n",
       "whippet                             9\n",
       "boston_bull                         9\n",
       "great_dane                          9\n",
       "borzoi                              9\n",
       "papillon                            8\n",
       "yorkshire_terrier                   8\n",
       "english_setter                      8\n",
       "standard_poodle                     8\n",
       "norwegian_elkhound                  8\n",
       "flat-coated_retriever               8\n",
       "doormat                             8\n",
       "doberman                            8\n",
       "miniature_poodle                    8\n",
       "swing                               7\n",
       "german_short-haired_pointer         7\n",
       "tub                                 7\n",
       "basenji                             7\n",
       "brittany_spaniel                    7\n",
       "norfolk_terrier                     7\n",
       "bath_towel                          7\n",
       "siamese_cat                         7\n",
       "saint_bernard                       7\n",
       "border_terrier                      7\n",
       "bloodhound                          7\n",
       "hamster                             7\n",
       "irish_terrier                       6\n",
       "car_mirror                          6\n",
       "llama                               6\n",
       "home_theater                        6\n",
       "redbone                             6\n",
       "irish_setter                        6\n",
       "ice_bear                            6\n",
       "dandie_dinmont                      6\n",
       "newfoundland                        5\n",
       "tibetan_mastiff                     5\n",
       "minivan                             5\n",
       "lhasa                               5\n",
       "hippopotamus                        5\n",
       "bull_mastiff                        5\n",
       "walker_hound                        5\n",
       "ox                                  5\n",
       "shopping_cart                       5\n",
       "bedlington_terrier                  5\n",
       "porcupine                           5\n",
       "saluki                              4\n",
       "bluetick                            4\n",
       "guinea_pig                          4\n",
       "arctic_fox                          4\n",
       "norwich_terrier                     4\n",
       "afghan_hound                        4\n",
       "jigsaw_puzzle                       4\n",
       "mexican_hairless                    4\n",
       "brown_bear                          4\n",
       "wombat                              4\n",
       "bathtub                             4\n",
       "weimaraner                          4\n",
       "gordon_setter                       4\n",
       "miniature_schnauzer                 4\n",
       "rhodesian_ridgeback                 4\n",
       "hog                                 4\n",
       "patio                               4\n",
       "goose                               4\n",
       "bow_tie                             4\n",
       "barrow                              4\n",
       "keeshond                            4\n",
       "tibetan_terrier                     4\n",
       "mousetrap                           3\n",
       "christmas_stocking                  3\n",
       "curly-coated_retriever              3\n",
       "ram                                 3\n",
       "triceratops                         3\n",
       "white_wolf                          3\n",
       "cowboy_hat                          3\n",
       "muzzle                              3\n",
       "giant_schnauzer                     3\n",
       "prison                              3\n",
       "motor_scooter                       3\n",
       "balloon                             3\n",
       "wood_rabbit                         3\n",
       "brabancon_griffon                   3\n",
       "comic_book                          3\n",
       "komondor                            3\n",
       "sea_lion                            3\n",
       "jack-o'-lantern                     3\n",
       "greater_swiss_mountain_dog          3\n",
       "toilet_tissue                       3\n",
       "refrigerator                        3\n",
       "ibizan_hound                        3\n",
       "dishwasher                          3\n",
       "washbasin                           3\n",
       "cairn                               3\n",
       "arabian_camel                       3\n",
       "window_shade                        3\n",
       "ski_mask                            3\n",
       "common_iguana                       3\n",
       "vacuum                              3\n",
       "welsh_springer_spaniel              3\n",
       "leonberg                            3\n",
       "seashore                            3\n",
       "stone_wall                          3\n",
       "briard                              3\n",
       "irish_water_spaniel                 3\n",
       "scottish_deerhound                  3\n",
       "space_heater                        3\n",
       "angora                              2\n",
       "tusker                              2\n",
       "box_turtle                          2\n",
       "sorrel                              2\n",
       "lakeside                            2\n",
       "shower_curtain                      2\n",
       "gondola                             2\n",
       "acorn_squash                        2\n",
       "meerkat                             2\n",
       "paper_towel                         2\n",
       "bubble                              2\n",
       "chimpanzee                          2\n",
       "toy_terrier                         2\n",
       "bustard                             2\n",
       "sussex_spaniel                      2\n",
       "hyena                               2\n",
       "loafer                              2\n",
       "gas_pump                            2\n",
       "upright                             2\n",
       "cash_machine                        2\n",
       "koala                               2\n",
       "black-and-tan_coonhound             2\n",
       "toyshop                             2\n",
       "axolotl                             2\n",
       "hermit_crab                         2\n",
       "appenzeller                         2\n",
       "weasel                              2\n",
       "feather_boa                         2\n",
       "tabby                               2\n",
       "hen                                 2\n",
       "wool                                2\n",
       "snorkel                             2\n",
       "australian_terrier                  2\n",
       "leatherback_turtle                  2\n",
       "wallaby                             2\n",
       "geyser                              2\n",
       "wire-haired_fox_terrier             2\n",
       "frilled_lizard                      2\n",
       "street_sign                         2\n",
       "laptop                              2\n",
       "dogsled                             2\n",
       "birdhouse                           2\n",
       "jellyfish                           2\n",
       "paddle                              2\n",
       "ostrich                             2\n",
       "snail                               2\n",
       "dough                               2\n",
       "badger                              2\n",
       "snowmobile                          1\n",
       "earthstar                           1\n",
       "ocarina                             1\n",
       "book_jacket                         1\n",
       "leaf_beetle                         1\n",
       "damselfly                           1\n",
       "sea_urchin                          1\n",
       "bow                                 1\n",
       "polecat                             1\n",
       "groenendael                         1\n",
       "toilet_seat                         1\n",
       "jersey                              1\n",
       "crane                               1\n",
       "giant_panda                         1\n",
       "maze                                1\n",
       "convertible                         1\n",
       "terrapin                            1\n",
       "washer                              1\n",
       "military_uniform                    1\n",
       "mortarboard                         1\n",
       "bald_eagle                          1\n",
       "sliding_door                        1\n",
       "hay                                 1\n",
       "pool_table                          1\n",
       "picket_fence                        1\n",
       "revolver                            1\n",
       "pitcher                             1\n",
       "hammer                              1\n",
       "candle                              1\n",
       "sunglasses                          1\n",
       "grille                              1\n",
       "shopping_basket                     1\n",
       "bighorn                             1\n",
       "espresso                            1\n",
       "egyptian_cat                        1\n",
       "scotch_terrier                      1\n",
       "alp                                 1\n",
       "trombone                            1\n",
       "envelope                            1\n",
       "ice_lolly                           1\n",
       "hotdog                              1\n",
       "electric_fan                        1\n",
       "tiger_shark                         1\n",
       "cougar                              1\n",
       "timber_wolf                         1\n",
       "conch                               1\n",
       "agama                               1\n",
       "zebra                               1\n",
       "lynx                                1\n",
       "basketball                          1\n",
       "african_hunting_dog                 1\n",
       "microwave                           1\n",
       "scorpion                            1\n",
       "suit                                1\n",
       "three-toed_sloth                    1\n",
       "restaurant                          1\n",
       "black-footed_ferret                 1\n",
       "desktop_computer                    1\n",
       "coho                                1\n",
       "pillow                              1\n",
       "sandbar                             1\n",
       "coffee_mug                          1\n",
       "pencil_box                          1\n",
       "boathouse                           1\n",
       "school_bus                          1\n",
       "minibus                             1\n",
       "african_crocodile                   1\n",
       "piggy_bank                          1\n",
       "robin                               1\n",
       "coil                                1\n",
       "tailed_frog                         1\n",
       "bookcase                            1\n",
       "bakery                              1\n",
       "marmot                              1\n",
       "guenon                              1\n",
       "beaver                              1\n",
       "pot                                 1\n",
       "rapeseed                            1\n",
       "platypus                            1\n",
       "sulphur-crested_cockatoo            1\n",
       "hand_blower                         1\n",
       "bannister                           1\n",
       "traffic_light                       1\n",
       "cuirass                             1\n",
       "rain_barrel                         1\n",
       "wooden_spoon                        1\n",
       "swab                                1\n",
       "padlock                             1\n",
       "american_black_bear                 1\n",
       "cliff                               1\n",
       "orange                              1\n",
       "cup                                 1\n",
       "tick                                1\n",
       "silky_terrier                       1\n",
       "barbell                             1\n",
       "pedestal                            1\n",
       "otter                               1\n",
       "standard_schnauzer                  1\n",
       "syringe                             1\n",
       "fiddler_crab                        1\n",
       "flamingo                            1\n",
       "cheetah                             1\n",
       "prayer_rug                          1\n",
       "bearskin                            1\n",
       "clumber                             1\n",
       "microphone                          1\n",
       "radio_telescope                     1\n",
       "china_cabinet                       1\n",
       "tricycle                            1\n",
       "sundial                             1\n",
       "wild_boar                           1\n",
       "dhole                               1\n",
       "panpipe                             1\n",
       "rotisserie                          1\n",
       "dining_table                        1\n",
       "walking_stick                       1\n",
       "fire_engine                         1\n",
       "bison                               1\n",
       "banana                              1\n",
       "bib                                 1\n",
       "fountain                            1\n",
       "slug                                1\n",
       "bookshop                            1\n",
       "remote_control                      1\n",
       "teapot                              1\n",
       "starfish                            1\n",
       "studio_couch                        1\n",
       "carton                              1\n",
       "mailbox                             1\n",
       "peacock                             1\n",
       "killer_whale                        1\n",
       "lawn_mower                          1\n",
       "beach_wagon                         1\n",
       "grey_fox                            1\n",
       "skunk                               1\n",
       "harp                                1\n",
       "madagascar_cat                      1\n",
       "bonnet                              1\n",
       "lion                                1\n",
       "coral_reef                          1\n",
       "king_penguin                        1\n",
       "japanese_spaniel                    1\n",
       "bee_eater                           1\n",
       "lorikeet                            1\n",
       "ibex                                1\n",
       "limousine                           1\n",
       "pole                                1\n",
       "park_bench                          1\n",
       "stove                               1\n",
       "four-poster                         1\n",
       "ping-pong_ball                      1\n",
       "cowboy_boot                         1\n",
       "hare                                1\n",
       "water_bottle                        1\n",
       "shield                              1\n",
       "canoe                               1\n",
       "long-horned_beetle                  1\n",
       "maillot                             1\n",
       "loupe                               1\n",
       "nail                                1\n",
       "carousel                            1\n",
       "leopard                             1\n",
       "african_grey                        1\n",
       "hummingbird                         1\n",
       "soccer_ball                         1\n",
       "quilt                               1\n",
       "crash_helmet                        1\n",
       "binoculars                          1\n",
       "mud_turtle                          1\n",
       "cheeseburger                        1\n",
       "clog                                1\n",
       "water_buffalo                       1\n",
       "entlebucher                         1\n",
       "handkerchief                        1\n",
       "lacewing                            1\n",
       "Name: p1, dtype: int64"
      ]
     },
     "execution_count": 59,
     "metadata": {},
     "output_type": "execute_result"
    }
   ],
   "source": [
    "image_prediction_df[\"p1\"].value_counts()"
   ]
  },
  {
   "cell_type": "markdown",
   "metadata": {},
   "source": [
    "## Issue \n",
    "### 11-here i start to merge the data.\n",
    "\n",
    "\n",
    "## Code\n"
   ]
  },
  {
   "cell_type": "code",
   "execution_count": 60,
   "metadata": {},
   "outputs": [],
   "source": [
    "#here i start to merge the data.\n",
    "merge_df = df.merge(df_json, right_on = \"id\", left_on = \"tweet_id\")"
   ]
  },
  {
   "cell_type": "code",
   "execution_count": 61,
   "metadata": {},
   "outputs": [],
   "source": [
    "#final data merge.\n",
    "all_data = merge_df.merge(image_prediction_df, right_on = \"tweet_id\", left_on = \"tweet_id\")"
   ]
  },
  {
   "cell_type": "code",
   "execution_count": 62,
   "metadata": {},
   "outputs": [
    {
     "data": {
      "text/plain": [
       "2073"
      ]
     },
     "execution_count": 62,
     "metadata": {},
     "output_type": "execute_result"
    }
   ],
   "source": [
    "#chakeing the data before go to analysis.\n",
    "all_data.shape[0]"
   ]
  },
  {
   "cell_type": "markdown",
   "metadata": {},
   "source": [
    "## Test\n"
   ]
  },
  {
   "cell_type": "code",
   "execution_count": 63,
   "metadata": {},
   "outputs": [
    {
     "name": "stdout",
     "output_type": "stream",
     "text": [
      "<class 'pandas.core.frame.DataFrame'>\n",
      "Int64Index: 2073 entries, 0 to 2072\n",
      "Data columns (total 40 columns):\n",
      "tweet_id                         2073 non-null object\n",
      "timestamp                        2073 non-null object\n",
      "source_x                         2073 non-null object\n",
      "text                             2073 non-null object\n",
      "expanded_urls                    2073 non-null object\n",
      "rating_numerator                 2073 non-null int64\n",
      "rating_denominator               2073 non-null int64\n",
      "name                             2073 non-null object\n",
      "dog_stage                        320 non-null object\n",
      "created_at                       2073 non-null object\n",
      "display_text_range               2073 non-null int64\n",
      "entities                         2073 non-null object\n",
      "extended_entities                2073 non-null object\n",
      "favorite_count                   2073 non-null int64\n",
      "favorited                        2073 non-null bool\n",
      "full_text                        2073 non-null object\n",
      "id                               2073 non-null object\n",
      "id_str                           2073 non-null object\n",
      "is_quote_status                  2073 non-null bool\n",
      "lang                             2073 non-null object\n",
      "possibly_sensitive               2073 non-null object\n",
      "possibly_sensitive_appealable    2073 non-null object\n",
      "retweet_count                    2073 non-null int64\n",
      "retweeted                        2073 non-null bool\n",
      "source_y                         2073 non-null object\n",
      "truncated                        2073 non-null bool\n",
      "user                             2073 non-null object\n",
      "jpg_url                          2073 non-null object\n",
      "img_num                          2073 non-null int64\n",
      "p1                               2073 non-null object\n",
      "p1_conf                          2073 non-null float64\n",
      "p1_dog                           2073 non-null bool\n",
      "p2                               2073 non-null object\n",
      "p2_conf                          2073 non-null float64\n",
      "p2_dog                           2073 non-null bool\n",
      "p3                               2073 non-null object\n",
      "p3_conf                          2073 non-null float64\n",
      "p3_dog                           2073 non-null bool\n",
      "breed                            2073 non-null object\n",
      "confidence                       2073 non-null float64\n",
      "dtypes: bool(7), float64(4), int64(6), object(23)\n",
      "memory usage: 564.8+ KB\n"
     ]
    }
   ],
   "source": [
    "all_data.info()"
   ]
  },
  {
   "cell_type": "code",
   "execution_count": 64,
   "metadata": {},
   "outputs": [
    {
     "data": {
      "text/html": [
       "<div>\n",
       "<style scoped>\n",
       "    .dataframe tbody tr th:only-of-type {\n",
       "        vertical-align: middle;\n",
       "    }\n",
       "\n",
       "    .dataframe tbody tr th {\n",
       "        vertical-align: top;\n",
       "    }\n",
       "\n",
       "    .dataframe thead th {\n",
       "        text-align: right;\n",
       "    }\n",
       "</style>\n",
       "<table border=\"1\" class=\"dataframe\">\n",
       "  <thead>\n",
       "    <tr style=\"text-align: right;\">\n",
       "      <th></th>\n",
       "      <th>rating_numerator</th>\n",
       "      <th>rating_denominator</th>\n",
       "      <th>display_text_range</th>\n",
       "      <th>favorite_count</th>\n",
       "      <th>retweet_count</th>\n",
       "      <th>img_num</th>\n",
       "      <th>p1_conf</th>\n",
       "      <th>p2_conf</th>\n",
       "      <th>p3_conf</th>\n",
       "      <th>confidence</th>\n",
       "    </tr>\n",
       "  </thead>\n",
       "  <tbody>\n",
       "    <tr>\n",
       "      <th>count</th>\n",
       "      <td>2073.000000</td>\n",
       "      <td>2073.000000</td>\n",
       "      <td>2073.000000</td>\n",
       "      <td>2073.000000</td>\n",
       "      <td>2073.000000</td>\n",
       "      <td>2073.000000</td>\n",
       "      <td>2073.000000</td>\n",
       "      <td>2.073000e+03</td>\n",
       "      <td>2.073000e+03</td>\n",
       "      <td>2073.000000</td>\n",
       "    </tr>\n",
       "    <tr>\n",
       "      <th>mean</th>\n",
       "      <td>12.265798</td>\n",
       "      <td>10.511819</td>\n",
       "      <td>111.586589</td>\n",
       "      <td>8556.718283</td>\n",
       "      <td>2976.089243</td>\n",
       "      <td>1.203570</td>\n",
       "      <td>0.594532</td>\n",
       "      <td>1.346665e-01</td>\n",
       "      <td>6.034005e-02</td>\n",
       "      <td>0.463326</td>\n",
       "    </tr>\n",
       "    <tr>\n",
       "      <th>std</th>\n",
       "      <td>40.699924</td>\n",
       "      <td>7.180517</td>\n",
       "      <td>26.261775</td>\n",
       "      <td>12098.640994</td>\n",
       "      <td>5054.897526</td>\n",
       "      <td>0.561856</td>\n",
       "      <td>0.271234</td>\n",
       "      <td>1.006830e-01</td>\n",
       "      <td>5.092769e-02</td>\n",
       "      <td>0.339142</td>\n",
       "    </tr>\n",
       "    <tr>\n",
       "      <th>min</th>\n",
       "      <td>0.000000</td>\n",
       "      <td>2.000000</td>\n",
       "      <td>13.000000</td>\n",
       "      <td>0.000000</td>\n",
       "      <td>16.000000</td>\n",
       "      <td>1.000000</td>\n",
       "      <td>0.044333</td>\n",
       "      <td>1.011300e-08</td>\n",
       "      <td>1.740170e-10</td>\n",
       "      <td>0.000000</td>\n",
       "    </tr>\n",
       "    <tr>\n",
       "      <th>25%</th>\n",
       "      <td>10.000000</td>\n",
       "      <td>10.000000</td>\n",
       "      <td>94.000000</td>\n",
       "      <td>1674.000000</td>\n",
       "      <td>634.000000</td>\n",
       "      <td>1.000000</td>\n",
       "      <td>0.364095</td>\n",
       "      <td>5.390140e-02</td>\n",
       "      <td>1.619920e-02</td>\n",
       "      <td>0.139909</td>\n",
       "    </tr>\n",
       "    <tr>\n",
       "      <th>50%</th>\n",
       "      <td>11.000000</td>\n",
       "      <td>10.000000</td>\n",
       "      <td>116.000000</td>\n",
       "      <td>3864.000000</td>\n",
       "      <td>1408.000000</td>\n",
       "      <td>1.000000</td>\n",
       "      <td>0.588230</td>\n",
       "      <td>1.186220e-01</td>\n",
       "      <td>4.947150e-02</td>\n",
       "      <td>0.457117</td>\n",
       "    </tr>\n",
       "    <tr>\n",
       "      <th>75%</th>\n",
       "      <td>12.000000</td>\n",
       "      <td>10.000000</td>\n",
       "      <td>137.000000</td>\n",
       "      <td>10937.000000</td>\n",
       "      <td>3443.000000</td>\n",
       "      <td>1.000000</td>\n",
       "      <td>0.843911</td>\n",
       "      <td>1.955730e-01</td>\n",
       "      <td>9.193000e-02</td>\n",
       "      <td>0.772685</td>\n",
       "    </tr>\n",
       "    <tr>\n",
       "      <th>max</th>\n",
       "      <td>1776.000000</td>\n",
       "      <td>170.000000</td>\n",
       "      <td>148.000000</td>\n",
       "      <td>132810.000000</td>\n",
       "      <td>79515.000000</td>\n",
       "      <td>4.000000</td>\n",
       "      <td>1.000000</td>\n",
       "      <td>4.880140e-01</td>\n",
       "      <td>2.734190e-01</td>\n",
       "      <td>0.999956</td>\n",
       "    </tr>\n",
       "  </tbody>\n",
       "</table>\n",
       "</div>"
      ],
      "text/plain": [
       "       rating_numerator  rating_denominator  display_text_range  favorite_count  retweet_count      img_num      p1_conf       p2_conf       p3_conf   confidence\n",
       "count       2073.000000         2073.000000         2073.000000     2073.000000    2073.000000  2073.000000  2073.000000  2.073000e+03  2.073000e+03  2073.000000\n",
       "mean          12.265798           10.511819          111.586589     8556.718283    2976.089243     1.203570     0.594532  1.346665e-01  6.034005e-02     0.463326\n",
       "std           40.699924            7.180517           26.261775    12098.640994    5054.897526     0.561856     0.271234  1.006830e-01  5.092769e-02     0.339142\n",
       "min            0.000000            2.000000           13.000000        0.000000      16.000000     1.000000     0.044333  1.011300e-08  1.740170e-10     0.000000\n",
       "25%           10.000000           10.000000           94.000000     1674.000000     634.000000     1.000000     0.364095  5.390140e-02  1.619920e-02     0.139909\n",
       "50%           11.000000           10.000000          116.000000     3864.000000    1408.000000     1.000000     0.588230  1.186220e-01  4.947150e-02     0.457117\n",
       "75%           12.000000           10.000000          137.000000    10937.000000    3443.000000     1.000000     0.843911  1.955730e-01  9.193000e-02     0.772685\n",
       "max         1776.000000          170.000000          148.000000   132810.000000   79515.000000     4.000000     1.000000  4.880140e-01  2.734190e-01     0.999956"
      ]
     },
     "execution_count": 64,
     "metadata": {},
     "output_type": "execute_result"
    }
   ],
   "source": [
    "all_data.describe()"
   ]
  },
  {
   "cell_type": "code",
   "execution_count": 65,
   "metadata": {},
   "outputs": [
    {
     "data": {
      "text/plain": [
       "tweet_id                            0\n",
       "timestamp                           0\n",
       "source_x                            0\n",
       "text                                0\n",
       "expanded_urls                       0\n",
       "rating_numerator                    0\n",
       "rating_denominator                  0\n",
       "name                                0\n",
       "dog_stage                        1753\n",
       "created_at                          0\n",
       "display_text_range                  0\n",
       "entities                            0\n",
       "extended_entities                   0\n",
       "favorite_count                      0\n",
       "favorited                           0\n",
       "full_text                           0\n",
       "id                                  0\n",
       "id_str                              0\n",
       "is_quote_status                     0\n",
       "lang                                0\n",
       "possibly_sensitive                  0\n",
       "possibly_sensitive_appealable       0\n",
       "retweet_count                       0\n",
       "retweeted                           0\n",
       "source_y                            0\n",
       "truncated                           0\n",
       "user                                0\n",
       "jpg_url                             0\n",
       "img_num                             0\n",
       "p1                                  0\n",
       "p1_conf                             0\n",
       "p1_dog                              0\n",
       "p2                                  0\n",
       "p2_conf                             0\n",
       "p2_dog                              0\n",
       "p3                                  0\n",
       "p3_conf                             0\n",
       "p3_dog                              0\n",
       "breed                               0\n",
       "confidence                          0\n",
       "dtype: int64"
      ]
     },
     "execution_count": 65,
     "metadata": {},
     "output_type": "execute_result"
    }
   ],
   "source": [
    "all_data.isnull().sum()"
   ]
  },
  {
   "cell_type": "code",
   "execution_count": 66,
   "metadata": {},
   "outputs": [
    {
     "data": {
      "text/html": [
       "<div>\n",
       "<style scoped>\n",
       "    .dataframe tbody tr th:only-of-type {\n",
       "        vertical-align: middle;\n",
       "    }\n",
       "\n",
       "    .dataframe tbody tr th {\n",
       "        vertical-align: top;\n",
       "    }\n",
       "\n",
       "    .dataframe thead th {\n",
       "        text-align: right;\n",
       "    }\n",
       "</style>\n",
       "<table border=\"1\" class=\"dataframe\">\n",
       "  <thead>\n",
       "    <tr style=\"text-align: right;\">\n",
       "      <th></th>\n",
       "      <th>tweet_id</th>\n",
       "      <th>timestamp</th>\n",
       "      <th>source_x</th>\n",
       "      <th>text</th>\n",
       "      <th>expanded_urls</th>\n",
       "      <th>rating_numerator</th>\n",
       "      <th>rating_denominator</th>\n",
       "      <th>name</th>\n",
       "      <th>dog_stage</th>\n",
       "      <th>created_at</th>\n",
       "      <th>display_text_range</th>\n",
       "      <th>entities</th>\n",
       "      <th>extended_entities</th>\n",
       "      <th>favorite_count</th>\n",
       "      <th>favorited</th>\n",
       "      <th>full_text</th>\n",
       "      <th>id</th>\n",
       "      <th>id_str</th>\n",
       "      <th>is_quote_status</th>\n",
       "      <th>lang</th>\n",
       "      <th>possibly_sensitive</th>\n",
       "      <th>possibly_sensitive_appealable</th>\n",
       "      <th>retweet_count</th>\n",
       "      <th>retweeted</th>\n",
       "      <th>source_y</th>\n",
       "      <th>truncated</th>\n",
       "      <th>user</th>\n",
       "      <th>jpg_url</th>\n",
       "      <th>img_num</th>\n",
       "      <th>p1</th>\n",
       "      <th>p1_conf</th>\n",
       "      <th>p1_dog</th>\n",
       "      <th>p2</th>\n",
       "      <th>p2_conf</th>\n",
       "      <th>p2_dog</th>\n",
       "      <th>p3</th>\n",
       "      <th>p3_conf</th>\n",
       "      <th>p3_dog</th>\n",
       "      <th>breed</th>\n",
       "      <th>confidence</th>\n",
       "    </tr>\n",
       "  </thead>\n",
       "  <tbody>\n",
       "    <tr>\n",
       "      <th>0</th>\n",
       "      <td>892420643555336193</td>\n",
       "      <td>2017-08-01 16:23:56 +0000</td>\n",
       "      <td>&lt;a href=\"http://twitter.com/download/iphone\" r...</td>\n",
       "      <td>This is Phineas. He's a mystical boy. Only eve...</td>\n",
       "      <td>https://twitter.com/dog_rates/status/892420643...</td>\n",
       "      <td>13</td>\n",
       "      <td>10</td>\n",
       "      <td>Phineas</td>\n",
       "      <td>NaN</td>\n",
       "      <td>Tue Aug 01 16:23:56 +0000 2017</td>\n",
       "      <td>85</td>\n",
       "      <td>{'hashtags': [], 'symbols': [], 'user_mentions...</td>\n",
       "      <td>{'media': [{'id': 892420639486877696, 'id_str'...</td>\n",
       "      <td>39467</td>\n",
       "      <td>False</td>\n",
       "      <td>This is Phineas. He's a mystical boy. Only eve...</td>\n",
       "      <td>892420643555336193</td>\n",
       "      <td>892420643555336193</td>\n",
       "      <td>False</td>\n",
       "      <td>en</td>\n",
       "      <td>False</td>\n",
       "      <td>False</td>\n",
       "      <td>8853</td>\n",
       "      <td>False</td>\n",
       "      <td>&lt;a href=\"http://twitter.com/download/iphone\" r...</td>\n",
       "      <td>False</td>\n",
       "      <td>{'id': 4196983835, 'id_str': '4196983835', 'na...</td>\n",
       "      <td>https://pbs.twimg.com/media/DGKD1-bXoAAIAUK.jpg</td>\n",
       "      <td>1</td>\n",
       "      <td>orange</td>\n",
       "      <td>0.097049</td>\n",
       "      <td>False</td>\n",
       "      <td>bagel</td>\n",
       "      <td>0.085851</td>\n",
       "      <td>False</td>\n",
       "      <td>banana</td>\n",
       "      <td>0.076110</td>\n",
       "      <td>False</td>\n",
       "      <td>Unidentifiable</td>\n",
       "      <td>0.000000</td>\n",
       "    </tr>\n",
       "    <tr>\n",
       "      <th>1</th>\n",
       "      <td>892177421306343426</td>\n",
       "      <td>2017-08-01 00:17:27 +0000</td>\n",
       "      <td>&lt;a href=\"http://twitter.com/download/iphone\" r...</td>\n",
       "      <td>This is Tilly. She's just checking pup on you....</td>\n",
       "      <td>https://twitter.com/dog_rates/status/892177421...</td>\n",
       "      <td>13</td>\n",
       "      <td>10</td>\n",
       "      <td>Tilly</td>\n",
       "      <td>NaN</td>\n",
       "      <td>Tue Aug 01 00:17:27 +0000 2017</td>\n",
       "      <td>138</td>\n",
       "      <td>{'hashtags': [], 'symbols': [], 'user_mentions...</td>\n",
       "      <td>{'media': [{'id': 892177413194625024, 'id_str'...</td>\n",
       "      <td>33819</td>\n",
       "      <td>False</td>\n",
       "      <td>This is Tilly. She's just checking pup on you....</td>\n",
       "      <td>892177421306343426</td>\n",
       "      <td>892177421306343426</td>\n",
       "      <td>False</td>\n",
       "      <td>en</td>\n",
       "      <td>False</td>\n",
       "      <td>False</td>\n",
       "      <td>6514</td>\n",
       "      <td>False</td>\n",
       "      <td>&lt;a href=\"http://twitter.com/download/iphone\" r...</td>\n",
       "      <td>False</td>\n",
       "      <td>{'id': 4196983835, 'id_str': '4196983835', 'na...</td>\n",
       "      <td>https://pbs.twimg.com/media/DGGmoV4XsAAUL6n.jpg</td>\n",
       "      <td>1</td>\n",
       "      <td>chihuahua</td>\n",
       "      <td>0.323581</td>\n",
       "      <td>True</td>\n",
       "      <td>pekinese</td>\n",
       "      <td>0.090647</td>\n",
       "      <td>True</td>\n",
       "      <td>papillon</td>\n",
       "      <td>0.068957</td>\n",
       "      <td>True</td>\n",
       "      <td>Chihuahua</td>\n",
       "      <td>0.323581</td>\n",
       "    </tr>\n",
       "  </tbody>\n",
       "</table>\n",
       "</div>"
      ],
      "text/plain": [
       "             tweet_id                  timestamp                                           source_x                                               text                                      expanded_urls  rating_numerator  rating_denominator     name dog_stage                      created_at  display_text_range                                           entities                                  extended_entities  favorite_count  favorited                                          full_text                  id              id_str  is_quote_status lang possibly_sensitive possibly_sensitive_appealable  retweet_count  retweeted                                           source_y  truncated                                               user                                          jpg_url  img_num         p1   p1_conf  p1_dog        p2   p2_conf  p2_dog        p3   p3_conf  p3_dog           breed  confidence\n",
       "0  892420643555336193  2017-08-01 16:23:56 +0000  <a href=\"http://twitter.com/download/iphone\" r...  This is Phineas. He's a mystical boy. Only eve...  https://twitter.com/dog_rates/status/892420643...                13                  10  Phineas       NaN  Tue Aug 01 16:23:56 +0000 2017                  85  {'hashtags': [], 'symbols': [], 'user_mentions...  {'media': [{'id': 892420639486877696, 'id_str'...           39467      False  This is Phineas. He's a mystical boy. Only eve...  892420643555336193  892420643555336193            False   en              False                         False           8853      False  <a href=\"http://twitter.com/download/iphone\" r...      False  {'id': 4196983835, 'id_str': '4196983835', 'na...  https://pbs.twimg.com/media/DGKD1-bXoAAIAUK.jpg        1     orange  0.097049   False     bagel  0.085851   False    banana  0.076110   False  Unidentifiable    0.000000\n",
       "1  892177421306343426  2017-08-01 00:17:27 +0000  <a href=\"http://twitter.com/download/iphone\" r...  This is Tilly. She's just checking pup on you....  https://twitter.com/dog_rates/status/892177421...                13                  10    Tilly       NaN  Tue Aug 01 00:17:27 +0000 2017                 138  {'hashtags': [], 'symbols': [], 'user_mentions...  {'media': [{'id': 892177413194625024, 'id_str'...           33819      False  This is Tilly. She's just checking pup on you....  892177421306343426  892177421306343426            False   en              False                         False           6514      False  <a href=\"http://twitter.com/download/iphone\" r...      False  {'id': 4196983835, 'id_str': '4196983835', 'na...  https://pbs.twimg.com/media/DGGmoV4XsAAUL6n.jpg        1  chihuahua  0.323581    True  pekinese  0.090647    True  papillon  0.068957    True       Chihuahua    0.323581"
      ]
     },
     "execution_count": 66,
     "metadata": {},
     "output_type": "execute_result"
    }
   ],
   "source": [
    "all_data.head(2)"
   ]
  },
  {
   "cell_type": "code",
   "execution_count": 67,
   "metadata": {},
   "outputs": [],
   "source": [
    "#drop unwanted columns.\n",
    "all_data = all_data[all_data['jpg_url'].notnull()]"
   ]
  },
  {
   "cell_type": "markdown",
   "metadata": {},
   "source": [
    "## Issue \n",
    "### 12- chane data type of timestamp.\n",
    "\n",
    "\n",
    "\n",
    "## Code"
   ]
  },
  {
   "cell_type": "code",
   "execution_count": 68,
   "metadata": {},
   "outputs": [],
   "source": [
    "# chane data type of timestamp.\n",
    "all_data['timestamp'] = pd.to_datetime(all_data['timestamp'])"
   ]
  },
  {
   "cell_type": "markdown",
   "metadata": {},
   "source": [
    "## Test\n"
   ]
  },
  {
   "cell_type": "code",
   "execution_count": 69,
   "metadata": {},
   "outputs": [
    {
     "name": "stdout",
     "output_type": "stream",
     "text": [
      "<class 'pandas.core.frame.DataFrame'>\n",
      "Int64Index: 2073 entries, 0 to 2072\n",
      "Data columns (total 40 columns):\n",
      "tweet_id                         2073 non-null object\n",
      "timestamp                        2073 non-null datetime64[ns, UTC]\n",
      "source_x                         2073 non-null object\n",
      "text                             2073 non-null object\n",
      "expanded_urls                    2073 non-null object\n",
      "rating_numerator                 2073 non-null int64\n",
      "rating_denominator               2073 non-null int64\n",
      "name                             2073 non-null object\n",
      "dog_stage                        320 non-null object\n",
      "created_at                       2073 non-null object\n",
      "display_text_range               2073 non-null int64\n",
      "entities                         2073 non-null object\n",
      "extended_entities                2073 non-null object\n",
      "favorite_count                   2073 non-null int64\n",
      "favorited                        2073 non-null bool\n",
      "full_text                        2073 non-null object\n",
      "id                               2073 non-null object\n",
      "id_str                           2073 non-null object\n",
      "is_quote_status                  2073 non-null bool\n",
      "lang                             2073 non-null object\n",
      "possibly_sensitive               2073 non-null object\n",
      "possibly_sensitive_appealable    2073 non-null object\n",
      "retweet_count                    2073 non-null int64\n",
      "retweeted                        2073 non-null bool\n",
      "source_y                         2073 non-null object\n",
      "truncated                        2073 non-null bool\n",
      "user                             2073 non-null object\n",
      "jpg_url                          2073 non-null object\n",
      "img_num                          2073 non-null int64\n",
      "p1                               2073 non-null object\n",
      "p1_conf                          2073 non-null float64\n",
      "p1_dog                           2073 non-null bool\n",
      "p2                               2073 non-null object\n",
      "p2_conf                          2073 non-null float64\n",
      "p2_dog                           2073 non-null bool\n",
      "p3                               2073 non-null object\n",
      "p3_conf                          2073 non-null float64\n",
      "p3_dog                           2073 non-null bool\n",
      "breed                            2073 non-null object\n",
      "confidence                       2073 non-null float64\n",
      "dtypes: bool(7), datetime64[ns, UTC](1), float64(4), int64(6), object(22)\n",
      "memory usage: 564.8+ KB\n"
     ]
    }
   ],
   "source": [
    "all_data.info()"
   ]
  },
  {
   "cell_type": "code",
   "execution_count": 70,
   "metadata": {},
   "outputs": [],
   "source": [
    "#save the data as file csv\n",
    "all_data.to_csv(\"final_data.csv\")"
   ]
  },
  {
   "cell_type": "code",
   "execution_count": 80,
   "metadata": {},
   "outputs": [],
   "source": [
    "#save the dataframe to CSV file\n",
    "\n",
    "df.to_csv(\"twitter_archive_master.csv\", index=False)"
   ]
  },
  {
   "cell_type": "markdown",
   "metadata": {},
   "source": [
    "# Data Analysing\n",
    "#### The basic and easy way to understand the data is plotting, in next section we will find some graph that help us to understand the database."
   ]
  },
  {
   "cell_type": "code",
   "execution_count": 81,
   "metadata": {},
   "outputs": [],
   "source": [
    "#This program code they organizing all the Graph automatics, size or color etc.\n",
    "plt.rcParams['figure.figsize'] = [15.0, 7.0]\n",
    "plt.rcParams['figure.dpi'] = 80\n",
    "plt.rcParams['savefig.dpi'] = 100\n",
    "plt.rcParams['font.size'] = 12\n",
    "plt.rcParams['legend.fontsize'] = 'large'\n",
    "plt.rcParams['figure.titlesize'] = 'medium'\n",
    "plt.rcParams['figure.facecolor'] = '0.75'\n",
    "plt.rcParams['lines.markersize'] = np.sqrt(20)\n",
    "plt.rcParams['patch.force_edgecolor'] = True\n",
    "plt.rcParams['patch.facecolor'] = 'b'\n",
    "plt.rcParams['xtick.direction'] = 'in'\n",
    "plt.rcParams['ytick.direction'] = 'in'\n",
    "plt.rcParams['xtick.top'] = True\n",
    "plt.rcParams['ytick.right'] = True\n",
    "plt.rcParams['axes.prop_cycle'] = cycler(color='bgrcmyk')"
   ]
  },
  {
   "cell_type": "code",
   "execution_count": 72,
   "metadata": {
    "scrolled": false
   },
   "outputs": [
    {
     "data": {
      "text/plain": [
       "<matplotlib.axes._subplots.AxesSubplot at 0x2bbb94ee9e8>"
      ]
     },
     "execution_count": 72,
     "metadata": {},
     "output_type": "execute_result"
    },
    {
     "data": {
      "image/png": "[encoded data removed]",
      "text/plain": [
       "<Figure size 1200x560 with 1 Axes>"
      ]
     },
     "metadata": {},
     "output_type": "display_data"
    }
   ],
   "source": [
    "t_b = all_data.groupby('breed').filter(lambda x: len(x) > 15)\n",
    "t_b['breed'].value_counts().plot(kind = 'bar',title = 'This graph show which dog thay breeding more than 15 in our tweets')"
   ]
  },
  {
   "cell_type": "code",
   "execution_count": 73,
   "metadata": {},
   "outputs": [
    {
     "data": {
      "image/png": "[encoded data removed]",
      "text/plain": [
       "<Figure size 1200x560 with 1 Axes>"
      ]
     },
     "metadata": {},
     "output_type": "display_data"
    }
   ],
   "source": [
    "plt.plot( all_data['retweet_count'] , color = 'b')\n",
    "plt.plot(all_data['favorite_count'], color = 'y')\n",
    "plt.xlabel('Tweet over Time ')\n",
    "plt.ylabel('Total Count')\n",
    "plt.title('This graph show the correlation between Retweets and favorites over the time')\n",
    "plt.show()"
   ]
  },
  {
   "cell_type": "code",
   "execution_count": 74,
   "metadata": {},
   "outputs": [],
   "source": [
    "dog_stage = all_data[all_data['dog_stage'].notnull()]"
   ]
  },
  {
   "cell_type": "code",
   "execution_count": 75,
   "metadata": {},
   "outputs": [
    {
     "data": {
      "image/png": "[encoded data removed]",
      "text/plain": [
       "<Figure size 1200x560 with 1 Axes>"
      ]
     },
     "metadata": {},
     "output_type": "display_data"
    }
   ],
   "source": [
    "dog_stage.dog_stage.hist();"
   ]
  },
  {
   "cell_type": "code",
   "execution_count": 76,
   "metadata": {},
   "outputs": [
    {
     "data": {
      "text/plain": [
       "Text(0.5, 1.0, 'Dog stages')"
      ]
     },
     "execution_count": 76,
     "metadata": {},
     "output_type": "execute_result"
    },
    {
     "data": {
      "image/png": "[encoded data removed]",
      "text/plain": [
       "<Figure size 1200x560 with 1 Axes>"
      ]
     },
     "metadata": {},
     "output_type": "display_data"
    }
   ],
   "source": [
    "dog_stage[dog_stage['dog_stage'].notnull()]['dog_stage'].value_counts().plot(kind = 'pie')\n",
    "plt.title('Dog stages')"
   ]
  },
  {
   "cell_type": "code",
   "execution_count": 77,
   "metadata": {},
   "outputs": [],
   "source": [
    "#all_data.groupby('timestamp')['tweet_id'].mean().plot(title = 'This graph show the correlation between Dates and Tweetes')"
   ]
  },
  {
   "cell_type": "code",
   "execution_count": null,
   "metadata": {},
   "outputs": [],
   "source": []
  }
 ],
 "metadata": {
  "kernelspec": {
   "display_name": "Python 3",
   "language": "python",
   "name": "python3"
  },
  "language_info": {
   "codemirror_mode": {
    "name": "ipython",
    "version": 3
   },
   "file_extension": ".py",
   "mimetype": "text/x-python",
   "name": "python",
   "nbconvert_exporter": "python",
   "pygments_lexer": "ipython3",
   "version": "3.7.3"
  }
 },
 "nbformat": 4,
 "nbformat_minor": 2
}
